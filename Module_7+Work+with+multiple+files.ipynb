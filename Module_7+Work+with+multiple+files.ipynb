{
 "cells": [
  {
   "cell_type": "code",
   "execution_count": 4,
   "metadata": {
    "collapsed": true
   },
   "outputs": [],
   "source": [
    "import os"
   ]
  },
  {
   "cell_type": "code",
   "execution_count": 5,
   "metadata": {
    "collapsed": true
   },
   "outputs": [],
   "source": [
    "files = os.listdir('data')"
   ]
  },
  {
   "cell_type": "code",
   "execution_count": 6,
   "metadata": {},
   "outputs": [
    {
     "data": {
      "text/plain": [
       "['ratings_8.txt',\n",
       " 'ratings_9.txt',\n",
       " 'ratings_10.txt',\n",
       " 'ratings_7.txt',\n",
       " 'ratings_6.txt',\n",
       " 'ratings_4.txt',\n",
       " 'ratings_5.txt',\n",
       " 'ratings_1.txt',\n",
       " 'ratings_2.txt',\n",
       " 'ratings_3.txt']"
      ]
     },
     "execution_count": 6,
     "metadata": {},
     "output_type": "execute_result"
    }
   ],
   "source": [
    "files"
   ]
  },
  {
   "cell_type": "code",
   "execution_count": 10,
   "metadata": {
    "collapsed": true
   },
   "outputs": [],
   "source": [
    "mixed_files = [\n",
    "\n",
    "'movies.csv',\n",
    "\n",
    "'notes.txt',\n",
    "\n",
    "'ratings.zip',\n",
    "\n",
    "'ratings_1.txt',\n",
    "\n",
    "'ratings_10.txt',\n",
    "\n",
    "'ratings_2.txt',\n",
    "\n",
    "'ratings_3.txt',\n",
    "\n",
    "'ratings_6.txt',\n",
    "\n",
    "'ratings_7.txt',\n",
    "\n",
    "'ratings_8.txt',\n",
    "\n",
    "'ratings_9.txt',\n",
    "\n",
    "'subfolder'\n",
    "\n",
    "]"
   ]
  },
  {
   "cell_type": "code",
   "execution_count": 11,
   "metadata": {
    "collapsed": true
   },
   "outputs": [],
   "source": [
    "answer = [a for a in mixed_files if 'ratings_' in a] #ищем файлы с нужным названием"
   ]
  },
  {
   "cell_type": "code",
   "execution_count": 12,
   "metadata": {},
   "outputs": [
    {
     "data": {
      "text/plain": [
       "8"
      ]
     },
     "execution_count": 12,
     "metadata": {},
     "output_type": "execute_result"
    }
   ],
   "source": [
    "len(answer)"
   ]
  },
  {
   "cell_type": "code",
   "execution_count": 13,
   "metadata": {},
   "outputs": [
    {
     "name": "stdout",
     "output_type": "stream",
     "text": [
      "Прохожу файлы папки data\n",
      "Файлы в папке: ['ratings_8.txt', 'ratings_9.txt', 'ratings_10.txt', 'ratings_7.txt', 'ratings_6.txt', 'ratings_4.txt', 'ratings_5.txt', 'ratings_1.txt', 'ratings_2.txt', 'ratings_3.txt']\n",
      "Список внутренних папок: []\n",
      "\n"
     ]
    }
   ],
   "source": [
    "for root, dirs, files in os.walk('data'):\n",
    "    print('Прохожу файлы папки {}'.format(root))\n",
    "    print('Файлы в папке: {}'.format(files))\n",
    "    print('Список внутренних папок: {}\\n'.format(dirs))"
   ]
  },
  {
   "cell_type": "code",
   "execution_count": 14,
   "metadata": {
    "collapsed": true
   },
   "outputs": [],
   "source": [
    "level_0 = ['ratings_1.txt', 'ratings_10.txt', 'ratings_2.txt']\n",
    "\n",
    "level_1 = ['ratings_1_subfolder.txt', 'ratings_2_subfolder.txt', 'ratings_3_subfolder.txt']\n",
    "\n",
    "level_2 = ['ratings_logs_001.txt', 'ratings_logs_002.txt', 'ratings_logs_003.txt']"
   ]
  },
  {
   "cell_type": "code",
   "execution_count": 15,
   "metadata": {},
   "outputs": [
    {
     "data": {
      "text/plain": [
       "9"
      ]
     },
     "execution_count": 15,
     "metadata": {},
     "output_type": "execute_result"
    }
   ],
   "source": [
    "a = len(level_0) + len(level_1) + len(level_2)\n",
    "a"
   ]
  },
  {
   "cell_type": "markdown",
   "metadata": {},
   "source": [
    "Поскольку мы получили только имена файлов, то нам теперь надо указывать методу pd.read_csv не только на имя файла, но и папку 'data', в которой лежит файл. Для того, чтобы объединять названия папок и имена файлов, можно воспользоваться удобным методом os.path.join (в нашем простом случае можно было объединить их через слэш, но в случае длинных адресов этот метод сэкономит вам много времени):"
   ]
  },
  {
   "cell_type": "code",
   "execution_count": 16,
   "metadata": {},
   "outputs": [
    {
     "name": "stdout",
     "output_type": "stream",
     "text": [
      "data/ratings_1.txt\n"
     ]
    }
   ],
   "source": [
    "print(os.path.join('data', 'ratings_1.txt'))"
   ]
  },
  {
   "cell_type": "code",
   "execution_count": 17,
   "metadata": {},
   "outputs": [
    {
     "data": {
      "text/html": [
       "<div>\n",
       "<style>\n",
       "    .dataframe thead tr:only-child th {\n",
       "        text-align: right;\n",
       "    }\n",
       "\n",
       "    .dataframe thead th {\n",
       "        text-align: left;\n",
       "    }\n",
       "\n",
       "    .dataframe tbody tr th {\n",
       "        vertical-align: top;\n",
       "    }\n",
       "</style>\n",
       "<table border=\"1\" class=\"dataframe\">\n",
       "  <thead>\n",
       "    <tr style=\"text-align: right;\">\n",
       "      <th></th>\n",
       "      <th>483</th>\n",
       "      <th>1573</th>\n",
       "      <th>2.0</th>\n",
       "      <th>1465387568</th>\n",
       "    </tr>\n",
       "  </thead>\n",
       "  <tbody>\n",
       "    <tr>\n",
       "      <th>0</th>\n",
       "      <td>483</td>\n",
       "      <td>1580</td>\n",
       "      <td>3.0</td>\n",
       "      <td>1465387435</td>\n",
       "    </tr>\n",
       "    <tr>\n",
       "      <th>1</th>\n",
       "      <td>483</td>\n",
       "      <td>1676</td>\n",
       "      <td>4.0</td>\n",
       "      <td>1465387586</td>\n",
       "    </tr>\n",
       "    <tr>\n",
       "      <th>2</th>\n",
       "      <td>483</td>\n",
       "      <td>1682</td>\n",
       "      <td>3.0</td>\n",
       "      <td>1465387384</td>\n",
       "    </tr>\n",
       "    <tr>\n",
       "      <th>3</th>\n",
       "      <td>483</td>\n",
       "      <td>1732</td>\n",
       "      <td>5.0</td>\n",
       "      <td>1465387406</td>\n",
       "    </tr>\n",
       "    <tr>\n",
       "      <th>4</th>\n",
       "      <td>483</td>\n",
       "      <td>1884</td>\n",
       "      <td>4.0</td>\n",
       "      <td>1465387578</td>\n",
       "    </tr>\n",
       "  </tbody>\n",
       "</table>\n",
       "</div>"
      ],
      "text/plain": [
       "   483  1573  2.0  1465387568\n",
       "0  483  1580  3.0  1465387435\n",
       "1  483  1676  4.0  1465387586\n",
       "2  483  1682  3.0  1465387384\n",
       "3  483  1732  5.0  1465387406\n",
       "4  483  1884  4.0  1465387578"
      ]
     },
     "execution_count": 17,
     "metadata": {},
     "output_type": "execute_result"
    }
   ],
   "source": [
    "import pandas as pd\n",
    "files = os.listdir('data')\n",
    "data = pd.read_csv( os.path.join('data', files[0]) )\n",
    "data.head()"
   ]
  },
  {
   "cell_type": "markdown",
   "metadata": {},
   "source": [
    "С помощью библиотеки os можно автоматизировать огромное количество операций с файлами. Например, можно быстро оценить размер папки, из которой мы собираемся брать данные. В случае больших файлов это очень важно, т. к. при чтении файла в датафрейм (без опции построчного чтения) весь объем файла пишется в оперативную память компьютера. С помощью метода getsize можно получить размер файлов в байтах:\n",
    "\n"
   ]
  },
  {
   "cell_type": "code",
   "execution_count": 18,
   "metadata": {},
   "outputs": [
    {
     "name": "stdout",
     "output_type": "stream",
     "text": [
      "2438233\n"
     ]
    }
   ],
   "source": [
    "from os.path import join, getsize\n",
    "for root, dirs, files in os.walk('data'):\n",
    "    print(sum(getsize(join(root, name)) for name in files))"
   ]
  },
  {
   "cell_type": "markdown",
   "metadata": {},
   "source": [
    "На прошлом шаге мы получили список файлов в папке и прочитали первый в датафрейм data. Давайте повторим процедуру для всех файлов и склеим все выгрузки в один датафрейм.\n",
    "\n",
    "В этом нам поможет метод concat.\n",
    "\n",
    "Этот метод позволяем склеивать два и более датафреймов в один. Например, если у нас есть датафреймы df1 и df2 с одинаковыми столбцами (обратите внимание, что название последнего столбца у них разное):"
   ]
  },
  {
   "cell_type": "code",
   "execution_count": 27,
   "metadata": {
    "collapsed": true
   },
   "outputs": [],
   "source": [
    "df1 = pd.DataFrame({'A': ['A0', 'A1', 'A2', 'A3'], \n",
    "\n",
    "                    'B': ['B0', 'B1', 'B2', 'B3'], \n",
    "\n",
    "                    'C': ['C0', 'C1', 'C2', 'C3'], \n",
    "\n",
    "                    'D': ['D0', 'D1', 'D2', 'D3']})"
   ]
  },
  {
   "cell_type": "code",
   "execution_count": 28,
   "metadata": {
    "collapsed": true
   },
   "outputs": [],
   "source": [
    "df2 = pd.DataFrame({'A': ['A4', 'A5', 'A6', 'A7'], \n",
    "\n",
    "                    'B': ['B4', 'B5', 'B6', 'B7'],\n",
    "\n",
    "                    'C': ['C4', 'C5', 'C6', 'C7'],\n",
    "\n",
    "                    'E': ['D4', 'D5', 'D6', 'D7']})"
   ]
  },
  {
   "cell_type": "code",
   "execution_count": 31,
   "metadata": {},
   "outputs": [
    {
     "data": {
      "text/html": [
       "<div>\n",
       "<style>\n",
       "    .dataframe thead tr:only-child th {\n",
       "        text-align: right;\n",
       "    }\n",
       "\n",
       "    .dataframe thead th {\n",
       "        text-align: left;\n",
       "    }\n",
       "\n",
       "    .dataframe tbody tr th {\n",
       "        vertical-align: top;\n",
       "    }\n",
       "</style>\n",
       "<table border=\"1\" class=\"dataframe\">\n",
       "  <thead>\n",
       "    <tr style=\"text-align: right;\">\n",
       "      <th></th>\n",
       "      <th>A</th>\n",
       "      <th>B</th>\n",
       "      <th>C</th>\n",
       "      <th>D</th>\n",
       "      <th>E</th>\n",
       "    </tr>\n",
       "  </thead>\n",
       "  <tbody>\n",
       "    <tr>\n",
       "      <th>0</th>\n",
       "      <td>A0</td>\n",
       "      <td>B0</td>\n",
       "      <td>C0</td>\n",
       "      <td>D0</td>\n",
       "      <td>NaN</td>\n",
       "    </tr>\n",
       "    <tr>\n",
       "      <th>1</th>\n",
       "      <td>A1</td>\n",
       "      <td>B1</td>\n",
       "      <td>C1</td>\n",
       "      <td>D1</td>\n",
       "      <td>NaN</td>\n",
       "    </tr>\n",
       "    <tr>\n",
       "      <th>2</th>\n",
       "      <td>A2</td>\n",
       "      <td>B2</td>\n",
       "      <td>C2</td>\n",
       "      <td>D2</td>\n",
       "      <td>NaN</td>\n",
       "    </tr>\n",
       "    <tr>\n",
       "      <th>3</th>\n",
       "      <td>A3</td>\n",
       "      <td>B3</td>\n",
       "      <td>C3</td>\n",
       "      <td>D3</td>\n",
       "      <td>NaN</td>\n",
       "    </tr>\n",
       "    <tr>\n",
       "      <th>0</th>\n",
       "      <td>A4</td>\n",
       "      <td>B4</td>\n",
       "      <td>C4</td>\n",
       "      <td>NaN</td>\n",
       "      <td>D4</td>\n",
       "    </tr>\n",
       "    <tr>\n",
       "      <th>1</th>\n",
       "      <td>A5</td>\n",
       "      <td>B5</td>\n",
       "      <td>C5</td>\n",
       "      <td>NaN</td>\n",
       "      <td>D5</td>\n",
       "    </tr>\n",
       "    <tr>\n",
       "      <th>2</th>\n",
       "      <td>A6</td>\n",
       "      <td>B6</td>\n",
       "      <td>C6</td>\n",
       "      <td>NaN</td>\n",
       "      <td>D6</td>\n",
       "    </tr>\n",
       "    <tr>\n",
       "      <th>3</th>\n",
       "      <td>A7</td>\n",
       "      <td>B7</td>\n",
       "      <td>C7</td>\n",
       "      <td>NaN</td>\n",
       "      <td>D7</td>\n",
       "    </tr>\n",
       "  </tbody>\n",
       "</table>\n",
       "</div>"
      ],
      "text/plain": [
       "    A   B   C    D    E\n",
       "0  A0  B0  C0   D0  NaN\n",
       "1  A1  B1  C1   D1  NaN\n",
       "2  A2  B2  C2   D2  NaN\n",
       "3  A3  B3  C3   D3  NaN\n",
       "0  A4  B4  C4  NaN   D4\n",
       "1  A5  B5  C5  NaN   D5\n",
       "2  A6  B6  C6  NaN   D6\n",
       "3  A7  B7  C7  NaN   D7"
      ]
     },
     "execution_count": 31,
     "metadata": {},
     "output_type": "execute_result"
    }
   ],
   "source": [
    "frames = [df1, df2]\n",
    "\n",
    "pd.concat(frames)"
   ]
  },
  {
   "cell_type": "markdown",
   "metadata": {},
   "source": [
    "Метод concat по умолчанию склеивает датафреймы вертикально, самостоятельно определяя одинаковые столбцы. Можно горизонтально"
   ]
  },
  {
   "cell_type": "code",
   "execution_count": 32,
   "metadata": {},
   "outputs": [
    {
     "data": {
      "text/html": [
       "<div>\n",
       "<style>\n",
       "    .dataframe thead tr:only-child th {\n",
       "        text-align: right;\n",
       "    }\n",
       "\n",
       "    .dataframe thead th {\n",
       "        text-align: left;\n",
       "    }\n",
       "\n",
       "    .dataframe tbody tr th {\n",
       "        vertical-align: top;\n",
       "    }\n",
       "</style>\n",
       "<table border=\"1\" class=\"dataframe\">\n",
       "  <thead>\n",
       "    <tr style=\"text-align: right;\">\n",
       "      <th></th>\n",
       "      <th>A</th>\n",
       "      <th>B</th>\n",
       "      <th>C</th>\n",
       "      <th>D</th>\n",
       "      <th>A</th>\n",
       "      <th>B</th>\n",
       "      <th>C</th>\n",
       "      <th>E</th>\n",
       "    </tr>\n",
       "  </thead>\n",
       "  <tbody>\n",
       "    <tr>\n",
       "      <th>0</th>\n",
       "      <td>A0</td>\n",
       "      <td>B0</td>\n",
       "      <td>C0</td>\n",
       "      <td>D0</td>\n",
       "      <td>A4</td>\n",
       "      <td>B4</td>\n",
       "      <td>C4</td>\n",
       "      <td>D4</td>\n",
       "    </tr>\n",
       "    <tr>\n",
       "      <th>1</th>\n",
       "      <td>A1</td>\n",
       "      <td>B1</td>\n",
       "      <td>C1</td>\n",
       "      <td>D1</td>\n",
       "      <td>A5</td>\n",
       "      <td>B5</td>\n",
       "      <td>C5</td>\n",
       "      <td>D5</td>\n",
       "    </tr>\n",
       "    <tr>\n",
       "      <th>2</th>\n",
       "      <td>A2</td>\n",
       "      <td>B2</td>\n",
       "      <td>C2</td>\n",
       "      <td>D2</td>\n",
       "      <td>A6</td>\n",
       "      <td>B6</td>\n",
       "      <td>C6</td>\n",
       "      <td>D6</td>\n",
       "    </tr>\n",
       "    <tr>\n",
       "      <th>3</th>\n",
       "      <td>A3</td>\n",
       "      <td>B3</td>\n",
       "      <td>C3</td>\n",
       "      <td>D3</td>\n",
       "      <td>A7</td>\n",
       "      <td>B7</td>\n",
       "      <td>C7</td>\n",
       "      <td>D7</td>\n",
       "    </tr>\n",
       "  </tbody>\n",
       "</table>\n",
       "</div>"
      ],
      "text/plain": [
       "    A   B   C   D   A   B   C   E\n",
       "0  A0  B0  C0  D0  A4  B4  C4  D4\n",
       "1  A1  B1  C1  D1  A5  B5  C5  D5\n",
       "2  A2  B2  C2  D2  A6  B6  C6  D6\n",
       "3  A3  B3  C3  D3  A7  B7  C7  D7"
      ]
     },
     "execution_count": 32,
     "metadata": {},
     "output_type": "execute_result"
    }
   ],
   "source": [
    "pd.concat([df1, df2], axis=1)"
   ]
  },
  {
   "cell_type": "markdown",
   "metadata": {
    "collapsed": true
   },
   "source": [
    "Итак, ранее мы прочитали содержимое одного файла с рейтингами в датафрейм. Список всех десяти файлов у нас лежит в списке files. Запишем содержимое всех файлов в датафрейм data.\n",
    "\n",
    "Сначала создадим его:\n",
    "\n",
    "data = pd.DataFrame(columns = ['userId', 'movieId', 'rating', 'timestamp'])\n",
    "Для каждого имени файла filename будем записывать его содержимое в датафрейм temp. \n",
    "\n",
    "Допустим, имя текущего файла записано в переменную filename, тогда для его импорта в датафрейм используем переменную temp:\n",
    "\n",
    "temp = pd.read_csv( os.path.join('data', filename), names = ['userId', 'movieId', 'rating', 'timestamp'] )\n",
    "Наконец, для добавления содержимого очередного файла filename к основному датафрейму data останется использовать метод concat:\n",
    "\n",
    "data = pd.concat([data, temp])\n",
    "Использование временного датафрейма temp аналогично тому как мы прибавляем значение к переменной i в цикле: i = i + 1. Только вместо i у нас датафрейм data, а вместо единицы - temp."
   ]
  },
  {
   "cell_type": "markdown",
   "metadata": {},
   "source": [
    "Напишите цикл, который собирает содержимое файлов папки data в единый датафрейм data"
   ]
  },
  {
   "cell_type": "code",
   "execution_count": 35,
   "metadata": {},
   "outputs": [
    {
     "data": {
      "text/html": [
       "<div>\n",
       "<style>\n",
       "    .dataframe thead tr:only-child th {\n",
       "        text-align: right;\n",
       "    }\n",
       "\n",
       "    .dataframe thead th {\n",
       "        text-align: left;\n",
       "    }\n",
       "\n",
       "    .dataframe tbody tr th {\n",
       "        vertical-align: top;\n",
       "    }\n",
       "</style>\n",
       "<table border=\"1\" class=\"dataframe\">\n",
       "  <thead>\n",
       "    <tr style=\"text-align: right;\">\n",
       "      <th></th>\n",
       "      <th>userId</th>\n",
       "      <th>movieId</th>\n",
       "      <th>rating</th>\n",
       "      <th>timestamp</th>\n",
       "    </tr>\n",
       "  </thead>\n",
       "  <tbody>\n",
       "    <tr>\n",
       "      <th>0</th>\n",
       "      <td>483</td>\n",
       "      <td>1573</td>\n",
       "      <td>2.0</td>\n",
       "      <td>1465387568</td>\n",
       "    </tr>\n",
       "    <tr>\n",
       "      <th>1</th>\n",
       "      <td>483</td>\n",
       "      <td>1580</td>\n",
       "      <td>3.0</td>\n",
       "      <td>1465387435</td>\n",
       "    </tr>\n",
       "    <tr>\n",
       "      <th>2</th>\n",
       "      <td>483</td>\n",
       "      <td>1676</td>\n",
       "      <td>4.0</td>\n",
       "      <td>1465387586</td>\n",
       "    </tr>\n",
       "    <tr>\n",
       "      <th>3</th>\n",
       "      <td>483</td>\n",
       "      <td>1682</td>\n",
       "      <td>3.0</td>\n",
       "      <td>1465387384</td>\n",
       "    </tr>\n",
       "    <tr>\n",
       "      <th>4</th>\n",
       "      <td>483</td>\n",
       "      <td>1732</td>\n",
       "      <td>5.0</td>\n",
       "      <td>1465387406</td>\n",
       "    </tr>\n",
       "  </tbody>\n",
       "</table>\n",
       "</div>"
      ],
      "text/plain": [
       "  userId movieId  rating   timestamp\n",
       "0    483    1573     2.0  1465387568\n",
       "1    483    1580     3.0  1465387435\n",
       "2    483    1676     4.0  1465387586\n",
       "3    483    1682     3.0  1465387384\n",
       "4    483    1732     5.0  1465387406"
      ]
     },
     "execution_count": 35,
     "metadata": {},
     "output_type": "execute_result"
    }
   ],
   "source": [
    "import os\n",
    "import pandas as pd\n",
    "data = pd.DataFrame(columns = ['userId', 'movieId', 'rating', 'timestamp'])\n",
    "files = os.listdir('data')\n",
    "for file in files:\n",
    "    temp = pd.read_csv( os.path.join('data', file), names = ['userId', 'movieId', 'rating', 'timestamp'] )\n",
    "    data = pd.concat([data, temp])\n",
    "data.head()"
   ]
  },
  {
   "cell_type": "code",
   "execution_count": 36,
   "metadata": {},
   "outputs": [
    {
     "data": {
      "text/plain": [
       "100004"
      ]
     },
     "execution_count": 36,
     "metadata": {},
     "output_type": "execute_result"
    }
   ],
   "source": [
    "len(data)"
   ]
  },
  {
   "cell_type": "code",
   "execution_count": null,
   "metadata": {
    "collapsed": true
   },
   "outputs": [],
   "source": []
  }
 ],
 "metadata": {
  "kernelspec": {
   "display_name": "Python 3",
   "language": "python",
   "name": "python3"
  },
  "language_info": {
   "codemirror_mode": {
    "name": "ipython",
    "version": 3
   },
   "file_extension": ".py",
   "mimetype": "text/x-python",
   "name": "python",
   "nbconvert_exporter": "python",
   "pygments_lexer": "ipython3",
   "version": "3.6.8"
  }
 },
 "nbformat": 4,
 "nbformat_minor": 2
}
