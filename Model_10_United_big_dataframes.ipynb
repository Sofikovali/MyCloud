{
 "cells": [
  {
   "cell_type": "markdown",
   "metadata": {},
   "source": [
    "В реальных задачах, как правило, мы не имеем готовой к использованию таблицы, а получаем данные из разных источников, и очень часто приходится объединять несколько таблиц в одну. \n",
    "\n",
    "Например, при построении воронки продаж для сквозной аналитики, обогащении выгрузки данными другой системы, сравнении полноты данных в системах и при других задачах.\n",
    "\n",
    "При этом требования к объемам данных постоянно растут. Если у вас нет под рукой настроенной базы данных или личного разработчика, то объединить даже «небольшие» таблицы в пару миллионов строк по визитам на сайт и покупкам в CRM станет проблемой, а по современным меркам это сравнительно небольшие таблицы. При этом объединять их надо сразу по нескольким измерениям. Например, чтобы получить конверсию в продажи на каждый день в разбивке по рекламному источнику и региону."
   ]
  },
  {
   "cell_type": "markdown",
   "metadata": {},
   "source": [
    "Наша задача — посчитать конверсию из визитов в покупки в разрезе источников трафика.\n",
    "\n",
    "Т. е. для каждой пары значений source и medium нам нужно взять количество визитов и покупок и совместить их в одной таблице. Для тех, кто знаком с SQL, это аналог операции JOIN. На первом шаге нам понадобится самый простой случай объединения этих файлов по одному столбцу (источнику).\n",
    "\n",
    "visits_by_source.txt — в первом столбце стоит источник трафика, во втором — сумма визитов:\n",
    "\n",
    "burgerclub 1197\n",
    "city-magazine 528\n",
    "facebook 3144\n",
    "...\n",
    "orders_by_source.txt — в первом столбце стоит источник трафика, во втором — количество покупок, в третьем — суммарная стоимость покупок:\n",
    "\n",
    "burgerclub 10 185\n",
    "city-magazine 5 81\n",
    "direct 5 88\n",
    "..."
   ]
  },
  {
   "cell_type": "markdown",
   "metadata": {},
   "source": [
    "Наша задача будет состоять в следующем: нужно написать функцию, на вход которой будем подавать очередную строчку из файла visits_by_source.txt. В ответ должны получать количество покупок из файла orders_by_source.txt, которое соответствует этой строчке. Т. е. в самом простом случае в файле orders_by_source.txt надо найти строчку с таким же источником и вернуть значение из второго столбца."
   ]
  },
  {
   "cell_type": "code",
   "execution_count": 11,
   "metadata": {
    "collapsed": true
   },
   "outputs": [],
   "source": [
    "orders_dict = {}\n",
    "with open('orders_by_source.txt', 'r') as f:\n",
    "        for line in f:\n",
    "            line = line.strip().split('\\t') \n",
    "            orders_dict[line[0]]=int(line[1])"
   ]
  },
  {
   "cell_type": "code",
   "execution_count": 12,
   "metadata": {},
   "outputs": [
    {
     "data": {
      "text/plain": [
       "['yandex', '104', '1818']"
      ]
     },
     "execution_count": 12,
     "metadata": {},
     "output_type": "execute_result"
    }
   ],
   "source": [
    "line"
   ]
  },
  {
   "cell_type": "code",
   "execution_count": 13,
   "metadata": {},
   "outputs": [
    {
     "data": {
      "text/plain": [
       "{'burgerclub': 10,\n",
       " 'city-magazine': 5,\n",
       " 'direct': 5,\n",
       " 'facebook': 5,\n",
       " 'food-delivery': 10,\n",
       " 'foody': 3,\n",
       " 'google': 77,\n",
       " 'newsletter': 5,\n",
       " 'promo': 68,\n",
       " 'vk': 2,\n",
       " 'yandex': 104}"
      ]
     },
     "execution_count": 13,
     "metadata": {},
     "output_type": "execute_result"
    }
   ],
   "source": [
    "orders_dict"
   ]
  },
  {
   "cell_type": "code",
   "execution_count": 14,
   "metadata": {
    "collapsed": true
   },
   "outputs": [],
   "source": [
    "\n",
    "def searchForLine( source, orders_dict ):\n",
    "    \"\"\"Функция по названию источника source ищет соответствующую строку в файле orders_by_source.txt.\n",
    "      Возвращает количество покупок, соответствующее источнику source. Если источник не найден, то возвращает 0\"\"\"\n",
    "  \n",
    "    if source in orders_dict:\n",
    "            return int( orders_dict[source] )\n",
    "    "
   ]
  },
  {
   "cell_type": "code",
   "execution_count": 15,
   "metadata": {},
   "outputs": [
    {
     "data": {
      "text/plain": [
       "10"
      ]
     },
     "execution_count": 15,
     "metadata": {},
     "output_type": "execute_result"
    }
   ],
   "source": [
    "searchForLine('burgerclub', orders_dict)"
   ]
  },
  {
   "cell_type": "markdown",
   "metadata": {},
   "source": [
    "Напишите цикл, в котором в каждую строчку файла visits_by_source.txt подставляется соответствующее количество покупок orders. Т. е. цикл заканчивается следующей строкой:\n",
    "\n",
    "print(source, visits, orders, orders / visits)\n",
    "\n",
    "Выведите на экран конверсию визитов в покупки для каждого источника (т. е. отношение orders к visits). Какое значение конверсии у источника vk? Ответ округлите до тысячных (т. е. ответ будет иметь формат 0.009)."
   ]
  },
  {
   "cell_type": "code",
   "execution_count": 19,
   "metadata": {},
   "outputs": [
    {
     "name": "stdout",
     "output_type": "stream",
     "text": [
      " Источник burgerclub,визитов 1197,заказов 10, конверсия 0.008\n",
      " Источник city-magazine,визитов 528,заказов 5, конверсия 0.009\n",
      " Источник facebook,визитов 3144,заказов 5, конверсия 0.002\n",
      " Источник food-delivery,визитов 1184,заказов 10, конверсия 0.008\n",
      " Источник foody,визитов 421,заказов 3, конверсия 0.007\n",
      " Источник google,визитов 10961,заказов 77, конверсия 0.007\n",
      " Источник newsletter,визитов 637,заказов 5, конверсия 0.008\n",
      " Источник promo,визитов 7405,заказов 68, конверсия 0.009\n",
      " Источник vk,визитов 256,заказов 2, конверсия 0.008\n",
      " Источник yandex,визитов 11757,заказов 104, конверсия 0.009\n",
      " Источник direct,визитов 2156,заказов 5, конверсия 0.002\n"
     ]
    }
   ],
   "source": [
    "       with open('visits_by_source.txt', 'r') as f:\n",
    "        for line in f:\n",
    "            line = line.strip().split('\\t')\n",
    "            source = line[0]\n",
    "            visits = int(line[1])\n",
    "            orders = searchForLine( source, orders_dict )\n",
    "            print(' Источник {},визитов {},заказов {}, конверсия {:.3f}' .format(source,visits, orders, orders / visits))"
   ]
  },
  {
   "cell_type": "markdown",
   "metadata": {},
   "source": [
    "Т. к. файл visits_by_source.txt может быть очень большим, выводить результаты на экран не особо практично.\n",
    "\n",
    "Давайте запишем результат в файл.\n",
    "\n",
    "Для этого мы будем «открывать» файл joined_by_source.txt с параметром 'w' вместо 'r'. При каждом таком «открытии» файл joined_by_source.txt будет создаваться заново (т. е., если он существовал ранее, все его содержимое будет удалено).\n",
    "\n",
    "Один файл (visits_by_source.txt) у нас уже открыт как переменная f. Соответственно, при открытии файла joined_by_source.txt надо давать ему другое имя (например, f_joined). И вместо функции print пишем команду записи в файл f_joined.write(...).\n",
    "\n",
    "Обратите внимание, что при записи строки в файл надо указывать символ переноса строки \\n в конце каждой строчки, иначе все строки будут записаны как одна:"
   ]
  },
  {
   "cell_type": "code",
   "execution_count": 28,
   "metadata": {
    "collapsed": true
   },
   "outputs": [],
   "source": [
    "with open('joined_by_source.txt', 'w') as f_joined:\n",
    "    with open('visits_by_source.txt', 'r') as f:\n",
    "        for line in f:\n",
    "            line = line.strip().split('\\t')\n",
    "            source = line[0]\n",
    "            visits = int(line[1])\n",
    "            orders = searchForLine( source, orders_dict )\n",
    "            f_joined.write('{}\\t{}\\t{}\\n'.format( source, visits, orders) )"
   ]
  },
  {
   "cell_type": "code",
   "execution_count": 32,
   "metadata": {},
   "outputs": [
    {
     "name": "stdout",
     "output_type": "stream",
     "text": [
      "['burgerclub', '1197', '10']\n",
      "['city-magazine', '528', '5']\n",
      "['facebook', '3144', '5']\n",
      "['food-delivery', '1184', '10']\n",
      "['foody', '421', '3']\n",
      "['google', '10961', '77']\n",
      "['newsletter', '637', '5']\n",
      "['promo', '7405', '68']\n",
      "['vk', '256', '2']\n",
      "['yandex', '11757', '104']\n",
      "['direct', '2156', '5']\n"
     ]
    }
   ],
   "source": [
    "with open('joined_by_source.txt', 'r') as f_joined:\n",
    "     for line in f_joined:\n",
    "        line = line.strip().split('\\t')   \n",
    "        print(line)"
   ]
  },
  {
   "cell_type": "code",
   "execution_count": 43,
   "metadata": {
    "collapsed": true
   },
   "outputs": [],
   "source": [
    "with open('joined_by_source.txt', 'w') as f_joined:\n",
    "    f_joined.write('source\\tvisits\\torders\\tconversation\\n')\n",
    "    with open('visits_by_source.txt', 'r') as f:\n",
    "        for line in f:\n",
    "            line = line.strip().split('\\t')\n",
    "            source = line[0]\n",
    "            visits = int(line[1])\n",
    "            orders = searchForLine( source, orders_dict )\n",
    "            f_joined.write('{}\\t{}\\t{}\\t{:.3f}\\n'.format( source, visits, orders, orders/visits) )"
   ]
  },
  {
   "cell_type": "code",
   "execution_count": 44,
   "metadata": {},
   "outputs": [
    {
     "name": "stdout",
     "output_type": "stream",
     "text": [
      "['source', 'visits', 'orders', 'conversation']\n",
      "['burgerclub', '1197', '10', '0.008']\n",
      "['city-magazine', '528', '5', '0.009']\n",
      "['facebook', '3144', '5', '0.002']\n",
      "['food-delivery', '1184', '10', '0.008']\n",
      "['foody', '421', '3', '0.007']\n",
      "['google', '10961', '77', '0.007']\n",
      "['newsletter', '637', '5', '0.008']\n",
      "['promo', '7405', '68', '0.009']\n",
      "['vk', '256', '2', '0.008']\n",
      "['yandex', '11757', '104', '0.009']\n",
      "['direct', '2156', '5', '0.002']\n"
     ]
    }
   ],
   "source": [
    "with open('joined_by_source.txt', 'r') as f_joined:\n",
    "    for line in f_joined:\n",
    "            line = line.strip().split('\\t')\n",
    "            print(line)"
   ]
  },
  {
   "cell_type": "code",
   "execution_count": 45,
   "metadata": {
    "collapsed": true
   },
   "outputs": [],
   "source": [
    "import pandas\n",
    "\n",
    "df = pandas.read_table('joined_by_source.txt')"
   ]
  },
  {
   "cell_type": "code",
   "execution_count": 46,
   "metadata": {},
   "outputs": [
    {
     "data": {
      "text/html": [
       "<div>\n",
       "<style>\n",
       "    .dataframe thead tr:only-child th {\n",
       "        text-align: right;\n",
       "    }\n",
       "\n",
       "    .dataframe thead th {\n",
       "        text-align: left;\n",
       "    }\n",
       "\n",
       "    .dataframe tbody tr th {\n",
       "        vertical-align: top;\n",
       "    }\n",
       "</style>\n",
       "<table border=\"1\" class=\"dataframe\">\n",
       "  <thead>\n",
       "    <tr style=\"text-align: right;\">\n",
       "      <th></th>\n",
       "      <th>source</th>\n",
       "      <th>visits</th>\n",
       "      <th>orders</th>\n",
       "      <th>conversation</th>\n",
       "    </tr>\n",
       "  </thead>\n",
       "  <tbody>\n",
       "    <tr>\n",
       "      <th>0</th>\n",
       "      <td>burgerclub</td>\n",
       "      <td>1197</td>\n",
       "      <td>10</td>\n",
       "      <td>0.008</td>\n",
       "    </tr>\n",
       "    <tr>\n",
       "      <th>1</th>\n",
       "      <td>city-magazine</td>\n",
       "      <td>528</td>\n",
       "      <td>5</td>\n",
       "      <td>0.009</td>\n",
       "    </tr>\n",
       "    <tr>\n",
       "      <th>2</th>\n",
       "      <td>facebook</td>\n",
       "      <td>3144</td>\n",
       "      <td>5</td>\n",
       "      <td>0.002</td>\n",
       "    </tr>\n",
       "    <tr>\n",
       "      <th>3</th>\n",
       "      <td>food-delivery</td>\n",
       "      <td>1184</td>\n",
       "      <td>10</td>\n",
       "      <td>0.008</td>\n",
       "    </tr>\n",
       "    <tr>\n",
       "      <th>4</th>\n",
       "      <td>foody</td>\n",
       "      <td>421</td>\n",
       "      <td>3</td>\n",
       "      <td>0.007</td>\n",
       "    </tr>\n",
       "    <tr>\n",
       "      <th>5</th>\n",
       "      <td>google</td>\n",
       "      <td>10961</td>\n",
       "      <td>77</td>\n",
       "      <td>0.007</td>\n",
       "    </tr>\n",
       "    <tr>\n",
       "      <th>6</th>\n",
       "      <td>newsletter</td>\n",
       "      <td>637</td>\n",
       "      <td>5</td>\n",
       "      <td>0.008</td>\n",
       "    </tr>\n",
       "    <tr>\n",
       "      <th>7</th>\n",
       "      <td>promo</td>\n",
       "      <td>7405</td>\n",
       "      <td>68</td>\n",
       "      <td>0.009</td>\n",
       "    </tr>\n",
       "    <tr>\n",
       "      <th>8</th>\n",
       "      <td>vk</td>\n",
       "      <td>256</td>\n",
       "      <td>2</td>\n",
       "      <td>0.008</td>\n",
       "    </tr>\n",
       "    <tr>\n",
       "      <th>9</th>\n",
       "      <td>yandex</td>\n",
       "      <td>11757</td>\n",
       "      <td>104</td>\n",
       "      <td>0.009</td>\n",
       "    </tr>\n",
       "    <tr>\n",
       "      <th>10</th>\n",
       "      <td>direct</td>\n",
       "      <td>2156</td>\n",
       "      <td>5</td>\n",
       "      <td>0.002</td>\n",
       "    </tr>\n",
       "  </tbody>\n",
       "</table>\n",
       "</div>"
      ],
      "text/plain": [
       "           source  visits  orders  conversation\n",
       "0      burgerclub    1197      10         0.008\n",
       "1   city-magazine     528       5         0.009\n",
       "2        facebook    3144       5         0.002\n",
       "3   food-delivery    1184      10         0.008\n",
       "4           foody     421       3         0.007\n",
       "5          google   10961      77         0.007\n",
       "6      newsletter     637       5         0.008\n",
       "7           promo    7405      68         0.009\n",
       "8              vk     256       2         0.008\n",
       "9          yandex   11757     104         0.009\n",
       "10         direct    2156       5         0.002"
      ]
     },
     "execution_count": 46,
     "metadata": {},
     "output_type": "execute_result"
    }
   ],
   "source": [
    "df"
   ]
  },
  {
   "cell_type": "code",
   "execution_count": 48,
   "metadata": {},
   "outputs": [
    {
     "data": {
      "text/plain": [
       "0.007000000000000001"
      ]
     },
     "execution_count": 48,
     "metadata": {},
     "output_type": "execute_result"
    }
   ],
   "source": [
    "df.conversation.mean()"
   ]
  },
  {
   "cell_type": "code",
   "execution_count": null,
   "metadata": {
    "collapsed": true
   },
   "outputs": [],
   "source": []
  }
 ],
 "metadata": {
  "kernelspec": {
   "display_name": "Python 3",
   "language": "python",
   "name": "python3"
  },
  "language_info": {
   "codemirror_mode": {
    "name": "ipython",
    "version": 3
   },
   "file_extension": ".py",
   "mimetype": "text/x-python",
   "name": "python",
   "nbconvert_exporter": "python",
   "pygments_lexer": "ipython3",
   "version": "3.6.8"
  }
 },
 "nbformat": 4,
 "nbformat_minor": 2
}
