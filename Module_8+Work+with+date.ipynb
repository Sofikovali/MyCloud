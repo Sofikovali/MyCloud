{
 "cells": [
  {
   "cell_type": "code",
   "execution_count": 1,
   "metadata": {
    "collapsed": true
   },
   "outputs": [],
   "source": [
    "startDate = '2017-12-01'\n",
    "endDate = '2017-12-31'"
   ]
  },
  {
   "cell_type": "code",
   "execution_count": 2,
   "metadata": {
    "collapsed": true
   },
   "outputs": [],
   "source": [
    "date_string = '05.10.2016  23:18'"
   ]
  },
  {
   "cell_type": "code",
   "execution_count": 3,
   "metadata": {},
   "outputs": [
    {
     "data": {
      "text/plain": [
       "str"
      ]
     },
     "execution_count": 3,
     "metadata": {},
     "output_type": "execute_result"
    }
   ],
   "source": [
    "type( date_string)"
   ]
  },
  {
   "cell_type": "markdown",
   "metadata": {},
   "source": [
    "Соответственно, сейчас мы не можем выполнять со строкой никаких операций. Например, прибавить к этой дате неделю или посчитать, к какому году она относится. Нам необходимо перевести эту дату в формат datetime. Для этого в Python есть библиотека с аналогичным названием datetime. Импортируем ее в наш скрипт:"
   ]
  },
  {
   "cell_type": "code",
   "execution_count": 4,
   "metadata": {
    "collapsed": true
   },
   "outputs": [],
   "source": [
    "import datetime"
   ]
  },
  {
   "cell_type": "markdown",
   "metadata": {},
   "source": [
    "На текущем занятии мы будем использовать из этой библиотеки следующие модули: datetime для распознавания формата дат и timedelta для прибавления к текущей дате определенный временной интервал. Нам придется вызывать эти модули следующим образом: datetime.datetime и datetime.timedelta , что достаточно громоздко. Чтобы сделать код более читабельным, давайте импортируем эти модули следующим образом. Это избавит нас от необходимости писать 'datetime.' перед каждым вызовом модулей."
   ]
  },
  {
   "cell_type": "code",
   "execution_count": 5,
   "metadata": {
    "collapsed": true
   },
   "outputs": [],
   "source": [
    "from datetime import datetime, timedelta"
   ]
  },
  {
   "cell_type": "markdown",
   "metadata": {},
   "source": [
    "Чтобы перевести переменную date_string в формат даты и времени, необходимо указать, в каком формате записана наша переменная. Допустим, что в этом примере цифры значат следующее:\n",
    "\n",
    "05 - день\n",
    "10 - месяц\n",
    "2016 - год\n",
    "23 - часы\n",
    "18 - минуты\n",
    "В Python для каждого формата даты и времени есть свое обозначение. Например, чтобы указать формат 'часы в формате от 0 до 24', надо на странице https://docs.python.org/3/library/datetime.html в таблице форматов (она в конце страницы) найти соответствующее обозначение — 'Hour (24-hour clock) as a zero-padded decimal number', т. е. %H.\n",
    "\n",
    "В этой таблице есть много форматов, даже на случаи обозначения дней недели, как Sun, Mon (первая строка таблицы) и использование AM и PM.\n",
    "\n",
    "Давайте расшифруем формат переменной date_string. Для этого используется метод strptime, который переводит переменную типа строка в переменную типа дата и время.\n",
    "\n",
    "В качестве первого аргумента ставим строковую переменную (date_string), потом указываем формат (при указании формата обязательно учитываем все точки и двоеточия):"
   ]
  },
  {
   "cell_type": "code",
   "execution_count": 6,
   "metadata": {},
   "outputs": [
    {
     "data": {
      "text/plain": [
       "datetime.datetime(2016, 10, 5, 23, 18)"
      ]
     },
     "execution_count": 6,
     "metadata": {},
     "output_type": "execute_result"
    }
   ],
   "source": [
    "date_string = '05.10.2016  23:18'\n",
    "datetime.strptime( date_string, '%d.%m.%Y %H:%M' )"
   ]
  },
  {
   "cell_type": "code",
   "execution_count": 7,
   "metadata": {},
   "outputs": [
    {
     "data": {
      "text/plain": [
       "datetime.datetime"
      ]
     },
     "execution_count": 7,
     "metadata": {},
     "output_type": "execute_result"
    }
   ],
   "source": [
    "date_datetime = datetime.strptime( date_string, '%d.%m.%Y %H:%M' )\n",
    "type( date_datetime )"
   ]
  },
  {
   "cell_type": "code",
   "execution_count": 8,
   "metadata": {},
   "outputs": [
    {
     "data": {
      "text/plain": [
       "2016"
      ]
     },
     "execution_count": 8,
     "metadata": {},
     "output_type": "execute_result"
    }
   ],
   "source": [
    "date_datetime.year # если хотим сгруппировать статистику покупок по году"
   ]
  },
  {
   "cell_type": "code",
   "execution_count": 9,
   "metadata": {},
   "outputs": [
    {
     "data": {
      "text/plain": [
       "23"
      ]
     },
     "execution_count": 9,
     "metadata": {},
     "output_type": "execute_result"
    }
   ],
   "source": [
    "date_datetime.hour # если строим отчет активности покупок по часам"
   ]
  },
  {
   "cell_type": "markdown",
   "metadata": {},
   "source": [
    "С помощью метода datetime.strptime переведите строку 'May 9 2017 9:00AM' в формат datetime.\n",
    "\n",
    "Выделите и запишите номер часа в этой дате (в виде целого числа). Подсказка: у обозначения месяца May формат %b, у AM - %p"
   ]
  },
  {
   "cell_type": "code",
   "execution_count": 10,
   "metadata": {},
   "outputs": [
    {
     "data": {
      "text/plain": [
       "datetime.datetime(2017, 5, 9, 9, 0)"
      ]
     },
     "execution_count": 10,
     "metadata": {},
     "output_type": "execute_result"
    }
   ],
   "source": [
    "date_string1 = 'May 9 2017 9:00AM'\n",
    "datetime.strptime( date_string1, '%b %d %Y %H:%M%p' )"
   ]
  },
  {
   "cell_type": "code",
   "execution_count": 11,
   "metadata": {},
   "outputs": [
    {
     "data": {
      "text/plain": [
       "9"
      ]
     },
     "execution_count": 11,
     "metadata": {},
     "output_type": "execute_result"
    }
   ],
   "source": [
    "date_datetime1 = datetime.strptime( date_string1, '%b %d %Y %H:%M%p' )\n",
    "date_datetime1.hour "
   ]
  },
  {
   "cell_type": "markdown",
   "metadata": {},
   "source": [
    "Допустим, у нас есть дата начала выгрузки startDate. Необходимо прибавить к этой дате день. Воспользуемся модулем timedelta.Переводим строковую переменную startDate в формат datetime."
   ]
  },
  {
   "cell_type": "code",
   "execution_count": 12,
   "metadata": {
    "collapsed": true
   },
   "outputs": [],
   "source": [
    "startDate = '2017-01-01'\n",
    "startDate_datetime = datetime.strptime( startDate, '%Y-%m-%d' )"
   ]
  },
  {
   "cell_type": "markdown",
   "metadata": {},
   "source": [
    "Теперь можем прибавлять к ней нужные временные интервалы с помощью timedelta:"
   ]
  },
  {
   "cell_type": "code",
   "execution_count": 13,
   "metadata": {},
   "outputs": [
    {
     "data": {
      "text/plain": [
       "datetime.datetime(2017, 1, 8, 0, 0)"
      ]
     },
     "execution_count": 13,
     "metadata": {},
     "output_type": "execute_result"
    }
   ],
   "source": [
    "startDate_datetime + timedelta( days = 7 )"
   ]
  },
  {
   "cell_type": "code",
   "execution_count": 14,
   "metadata": {},
   "outputs": [
    {
     "data": {
      "text/plain": [
       "datetime.datetime(2016, 12, 25, 0, 0)"
      ]
     },
     "execution_count": 14,
     "metadata": {},
     "output_type": "execute_result"
    }
   ],
   "source": [
    "startDate_datetime + timedelta( days = -7 ) #можно не только прибавлять дни, но и отнимать"
   ]
  },
  {
   "cell_type": "markdown",
   "metadata": {},
   "source": [
    "Для увеличения даты и времени на определенное количество часов или минут просто меняем название параметра. Попробуем добавить к дате выгрузки 1 час:"
   ]
  },
  {
   "cell_type": "code",
   "execution_count": 15,
   "metadata": {},
   "outputs": [
    {
     "data": {
      "text/plain": [
       "datetime.datetime(2017, 1, 1, 0, 0)"
      ]
     },
     "execution_count": 15,
     "metadata": {},
     "output_type": "execute_result"
    }
   ],
   "source": [
    "startDate_datetime + timedelta( hours = 1 )\n",
    "startDate_datetime"
   ]
  },
  {
   "cell_type": "markdown",
   "metadata": {},
   "source": [
    "Возьмите дату из прошлого шага 'May 9 2017 9:00AM', переведите в формат datetime и прибавьте к ней час с помощью timedelta."
   ]
  },
  {
   "cell_type": "code",
   "execution_count": 16,
   "metadata": {
    "collapsed": true
   },
   "outputs": [],
   "source": [
    "date_datetime2 = date_datetime1 +timedelta( hours = 1 )"
   ]
  },
  {
   "cell_type": "markdown",
   "metadata": {},
   "source": [
    "После вычислений с датами можно легко вернуть результат обратно в строку. Для этого воспользуемся методом strftime, указав в качестве аргумента желаемый формат:"
   ]
  },
  {
   "cell_type": "code",
   "execution_count": 17,
   "metadata": {},
   "outputs": [
    {
     "data": {
      "text/plain": [
       "'2017-01-01 00:00:00'"
      ]
     },
     "execution_count": 17,
     "metadata": {},
     "output_type": "execute_result"
    }
   ],
   "source": [
    "startDate_datetime.strftime( '%Y-%m-%d %H:%M:%S' )"
   ]
  },
  {
   "cell_type": "markdown",
   "metadata": {},
   "source": [
    "Возьмите результат прошлого упражнения (прибавление часа к 9 мая) и запишите результат в формате '%Y-%m-%d'."
   ]
  },
  {
   "cell_type": "code",
   "execution_count": 18,
   "metadata": {},
   "outputs": [
    {
     "data": {
      "text/plain": [
       "'2017-05-09'"
      ]
     },
     "execution_count": 18,
     "metadata": {},
     "output_type": "execute_result"
    }
   ],
   "source": [
    "date_datetime2.strftime( '%Y-%m-%d' )"
   ]
  },
  {
   "cell_type": "code",
   "execution_count": 19,
   "metadata": {
    "collapsed": true
   },
   "outputs": [],
   "source": [
    "current_day = startDate_datetime"
   ]
  },
  {
   "cell_type": "code",
   "execution_count": 20,
   "metadata": {},
   "outputs": [
    {
     "name": "stdout",
     "output_type": "stream",
     "text": [
      "1\n",
      "2\n",
      "3\n",
      "4\n"
     ]
    }
   ],
   "source": [
    "a = 1\n",
    "while a < 5:\n",
    "    print( a )    \n",
    "    a += 1"
   ]
  },
  {
   "cell_type": "markdown",
   "metadata": {},
   "source": [
    "С датами можно работать в цикле. Например, у нас есть две даты - 1 и 7 января 2017 года с указанным временем. Давайте выведем все между ними стоящие даты:"
   ]
  },
  {
   "cell_type": "code",
   "execution_count": 21,
   "metadata": {},
   "outputs": [
    {
     "name": "stdout",
     "output_type": "stream",
     "text": [
      "2017-01-01\n",
      "2017-01-02\n",
      "2017-01-03\n",
      "2017-01-04\n",
      "2017-01-05\n",
      "2017-01-06\n",
      "2017-01-07\n"
     ]
    }
   ],
   "source": [
    "current_day = startDate_datetime\n",
    "endDate_datetime = '2017.01.07 00:00'\n",
    "endDate_datetime = datetime.strptime( endDate_datetime, '%Y.%m.%d %H:%M' )\n",
    "while current_day <= endDate_datetime:\n",
    "    print(current_day.strftime( '%Y-%m-%d' )  )    \n",
    "    current_day += timedelta( days = 1 )"
   ]
  },
  {
   "cell_type": "code",
   "execution_count": 22,
   "metadata": {},
   "outputs": [
    {
     "data": {
      "text/plain": [
       "datetime.datetime(2017, 1, 7, 0, 0)"
      ]
     },
     "execution_count": 22,
     "metadata": {},
     "output_type": "execute_result"
    }
   ],
   "source": [
    "endDate_datetime"
   ]
  },
  {
   "cell_type": "markdown",
   "metadata": {},
   "source": [
    "Напишите алгоритм, который «пробегает» период 1 до 3 января включительно по часам. Формат вывода '%Y-%m-%d %H:%M:%S'.\n",
    "Какое значение будет последним для 2 января (т. е. 23 часа 2 января)? Результат должен иметь формат %Y-%m-%d %H:%M:%S"
   ]
  },
  {
   "cell_type": "code",
   "execution_count": 23,
   "metadata": {},
   "outputs": [
    {
     "name": "stdout",
     "output_type": "stream",
     "text": [
      "2017-01-01 00:00:00\n",
      "2017-01-01 01:00:00\n",
      "2017-01-01 02:00:00\n",
      "2017-01-01 03:00:00\n",
      "2017-01-01 04:00:00\n",
      "2017-01-01 05:00:00\n",
      "2017-01-01 06:00:00\n",
      "2017-01-01 07:00:00\n",
      "2017-01-01 08:00:00\n",
      "2017-01-01 09:00:00\n",
      "2017-01-01 10:00:00\n",
      "2017-01-01 11:00:00\n",
      "2017-01-01 12:00:00\n",
      "2017-01-01 13:00:00\n",
      "2017-01-01 14:00:00\n",
      "2017-01-01 15:00:00\n",
      "2017-01-01 16:00:00\n",
      "2017-01-01 17:00:00\n",
      "2017-01-01 18:00:00\n",
      "2017-01-01 19:00:00\n",
      "2017-01-01 20:00:00\n",
      "2017-01-01 21:00:00\n",
      "2017-01-01 22:00:00\n",
      "2017-01-01 23:00:00\n",
      "2017-01-02 00:00:00\n",
      "2017-01-02 01:00:00\n",
      "2017-01-02 02:00:00\n",
      "2017-01-02 03:00:00\n",
      "2017-01-02 04:00:00\n",
      "2017-01-02 05:00:00\n",
      "2017-01-02 06:00:00\n",
      "2017-01-02 07:00:00\n",
      "2017-01-02 08:00:00\n",
      "2017-01-02 09:00:00\n",
      "2017-01-02 10:00:00\n",
      "2017-01-02 11:00:00\n",
      "2017-01-02 12:00:00\n",
      "2017-01-02 13:00:00\n",
      "2017-01-02 14:00:00\n",
      "2017-01-02 15:00:00\n",
      "2017-01-02 16:00:00\n",
      "2017-01-02 17:00:00\n",
      "2017-01-02 18:00:00\n",
      "2017-01-02 19:00:00\n",
      "2017-01-02 20:00:00\n",
      "2017-01-02 21:00:00\n",
      "2017-01-02 22:00:00\n",
      "2017-01-02 23:00:00\n",
      "2017-01-03 00:00:00\n",
      "2017-01-03 01:00:00\n",
      "2017-01-03 02:00:00\n",
      "2017-01-03 03:00:00\n",
      "2017-01-03 04:00:00\n",
      "2017-01-03 05:00:00\n",
      "2017-01-03 06:00:00\n",
      "2017-01-03 07:00:00\n",
      "2017-01-03 08:00:00\n",
      "2017-01-03 09:00:00\n",
      "2017-01-03 10:00:00\n",
      "2017-01-03 11:00:00\n",
      "2017-01-03 12:00:00\n",
      "2017-01-03 13:00:00\n",
      "2017-01-03 14:00:00\n",
      "2017-01-03 15:00:00\n",
      "2017-01-03 16:00:00\n",
      "2017-01-03 17:00:00\n",
      "2017-01-03 18:00:00\n",
      "2017-01-03 19:00:00\n",
      "2017-01-03 20:00:00\n",
      "2017-01-03 21:00:00\n",
      "2017-01-03 22:00:00\n",
      "2017-01-03 23:00:00\n",
      "2017-01-04 00:00:00\n",
      "2017-01-04 01:00:00\n",
      "2017-01-04 02:00:00\n",
      "2017-01-04 03:00:00\n",
      "2017-01-04 04:00:00\n",
      "2017-01-04 05:00:00\n",
      "2017-01-04 06:00:00\n",
      "2017-01-04 07:00:00\n",
      "2017-01-04 08:00:00\n",
      "2017-01-04 09:00:00\n",
      "2017-01-04 10:00:00\n",
      "2017-01-04 11:00:00\n",
      "2017-01-04 12:00:00\n",
      "2017-01-04 13:00:00\n",
      "2017-01-04 14:00:00\n",
      "2017-01-04 15:00:00\n",
      "2017-01-04 16:00:00\n",
      "2017-01-04 17:00:00\n",
      "2017-01-04 18:00:00\n",
      "2017-01-04 19:00:00\n",
      "2017-01-04 20:00:00\n",
      "2017-01-04 21:00:00\n",
      "2017-01-04 22:00:00\n",
      "2017-01-04 23:00:00\n",
      "2017-01-05 00:00:00\n",
      "2017-01-05 01:00:00\n",
      "2017-01-05 02:00:00\n",
      "2017-01-05 03:00:00\n",
      "2017-01-05 04:00:00\n",
      "2017-01-05 05:00:00\n",
      "2017-01-05 06:00:00\n",
      "2017-01-05 07:00:00\n",
      "2017-01-05 08:00:00\n",
      "2017-01-05 09:00:00\n",
      "2017-01-05 10:00:00\n",
      "2017-01-05 11:00:00\n",
      "2017-01-05 12:00:00\n",
      "2017-01-05 13:00:00\n",
      "2017-01-05 14:00:00\n",
      "2017-01-05 15:00:00\n",
      "2017-01-05 16:00:00\n",
      "2017-01-05 17:00:00\n",
      "2017-01-05 18:00:00\n",
      "2017-01-05 19:00:00\n",
      "2017-01-05 20:00:00\n",
      "2017-01-05 21:00:00\n",
      "2017-01-05 22:00:00\n",
      "2017-01-05 23:00:00\n",
      "2017-01-06 00:00:00\n",
      "2017-01-06 01:00:00\n",
      "2017-01-06 02:00:00\n",
      "2017-01-06 03:00:00\n",
      "2017-01-06 04:00:00\n",
      "2017-01-06 05:00:00\n",
      "2017-01-06 06:00:00\n",
      "2017-01-06 07:00:00\n",
      "2017-01-06 08:00:00\n",
      "2017-01-06 09:00:00\n",
      "2017-01-06 10:00:00\n",
      "2017-01-06 11:00:00\n",
      "2017-01-06 12:00:00\n",
      "2017-01-06 13:00:00\n",
      "2017-01-06 14:00:00\n",
      "2017-01-06 15:00:00\n",
      "2017-01-06 16:00:00\n",
      "2017-01-06 17:00:00\n",
      "2017-01-06 18:00:00\n",
      "2017-01-06 19:00:00\n",
      "2017-01-06 20:00:00\n",
      "2017-01-06 21:00:00\n",
      "2017-01-06 22:00:00\n",
      "2017-01-06 23:00:00\n",
      "2017-01-07 00:00:00\n"
     ]
    }
   ],
   "source": [
    "current_day = startDate_datetime\n",
    "endDate_datetime = '2017.01.07 00:00'\n",
    "endDate_datetime = datetime.strptime( endDate_datetime, '%Y.%m.%d %H:%M' )\n",
    "while current_day <= endDate_datetime:\n",
    "    print(current_day.strftime( '%Y-%m-%d %H:%M:%S' )  )    \n",
    "    current_day += timedelta( hours = 1 )"
   ]
  },
  {
   "cell_type": "markdown",
   "metadata": {},
   "source": [
    "Чтобы каждый раз не повторять алгоритм перебора дат, мы подготовили для вас функцию, которая сразу формирует список с датами в заданном диапазоне. Вы можете скопировать ее и использовать в работе. Пример работы функции приведен в ее описании: "
   ]
  },
  {
   "cell_type": "code",
   "execution_count": 24,
   "metadata": {
    "collapsed": true
   },
   "outputs": [],
   "source": [
    "def date_range(start_date, end_date):\n",
    "    \"\"\"\n",
    "    Возвращает список дат между start_date и end_date с шагом в день.\n",
    "    Если start_date > end_date, то возвращает пустой список. \n",
    "    Пример\n",
    "    date_range('2018-01-01', '2018-01-07')\n",
    "    [\n",
    "        '2018-01-01',\n",
    "        '2018-01-02',\n",
    "        '2018-01-03',\n",
    "        '2018-01-04',\n",
    "        '2018-01-05',\n",
    "        '2018-01-06',\n",
    "        '2018-01-07'\n",
    "    ]\n",
    "    \"\"\" \n",
    "    date_range_list = []\n",
    "    current_date = start_date  \n",
    "    current_date_dt = datetime.strptime(start_date, '%Y-%m-%d')\n",
    "    end_date_dt = datetime.strptime(end_date, '%Y-%m-%d')   \n",
    "    while current_date_dt <= end_date_dt:\n",
    "        date_range_list.append(current_date)        \n",
    "        current_date_dt += timedelta(days=1)\n",
    "        current_date = current_date_dt.strftime('%Y-%m-%d')    \n",
    "    return date_range_list"
   ]
  },
  {
   "cell_type": "markdown",
   "metadata": {},
   "source": [
    "Нам необходимо для пользователей из датасета data.tsv посчитать метрику lifetime, т. е. среднее время жизни (с точки зрения покупок, конечно). Т. е. если пользователь сделал 2 и более заказа, то для него необходимо посчитать разницу во времени между первой и последней покупкой и, соответственно, усреднить это значения для всех пользователей.\n",
    "\n",
    "Основной проблемой будет то, что время покупки у нас задано в виде строки. Соответственно, необходимо перевести эту дату в числа и считать разницу между первой и последней покупкой."
   ]
  },
  {
   "cell_type": "code",
   "execution_count": 26,
   "metadata": {},
   "outputs": [
    {
     "data": {
      "text/html": [
       "<div>\n",
       "<style>\n",
       "    .dataframe thead tr:only-child th {\n",
       "        text-align: right;\n",
       "    }\n",
       "\n",
       "    .dataframe thead th {\n",
       "        text-align: left;\n",
       "    }\n",
       "\n",
       "    .dataframe tbody tr th {\n",
       "        vertical-align: top;\n",
       "    }\n",
       "</style>\n",
       "<table border=\"1\" class=\"dataframe\">\n",
       "  <thead>\n",
       "    <tr style=\"text-align: right;\">\n",
       "      <th></th>\n",
       "      <th>id</th>\n",
       "      <th>date</th>\n",
       "      <th>user_id</th>\n",
       "      <th>duration</th>\n",
       "      <th>medium</th>\n",
       "      <th>source</th>\n",
       "      <th>cost</th>\n",
       "      <th>order_id</th>\n",
       "      <th>amount_paid</th>\n",
       "    </tr>\n",
       "  </thead>\n",
       "  <tbody>\n",
       "    <tr>\n",
       "      <th>0</th>\n",
       "      <td>40443</td>\n",
       "      <td>05.10.2016 23:18</td>\n",
       "      <td>1010</td>\n",
       "      <td>0.000926</td>\n",
       "      <td>seo</td>\n",
       "      <td>google</td>\n",
       "      <td>0.00</td>\n",
       "      <td>6243</td>\n",
       "      <td>20.2</td>\n",
       "    </tr>\n",
       "    <tr>\n",
       "      <th>1</th>\n",
       "      <td>35044</td>\n",
       "      <td>09.10.2016 21:40</td>\n",
       "      <td>1036</td>\n",
       "      <td>0.006493</td>\n",
       "      <td>sem</td>\n",
       "      <td>yandex</td>\n",
       "      <td>0.07</td>\n",
       "      <td>6145</td>\n",
       "      <td>15.6</td>\n",
       "    </tr>\n",
       "    <tr>\n",
       "      <th>2</th>\n",
       "      <td>40177</td>\n",
       "      <td>05.10.2016 3:23</td>\n",
       "      <td>1041</td>\n",
       "      <td>0.003380</td>\n",
       "      <td>email</td>\n",
       "      <td>promo</td>\n",
       "      <td>0.00</td>\n",
       "      <td>6128</td>\n",
       "      <td>13.2</td>\n",
       "    </tr>\n",
       "    <tr>\n",
       "      <th>3</th>\n",
       "      <td>39401</td>\n",
       "      <td>05.10.2016 23:19</td>\n",
       "      <td>1041</td>\n",
       "      <td>0.000463</td>\n",
       "      <td>sem</td>\n",
       "      <td>yandex</td>\n",
       "      <td>0.03</td>\n",
       "      <td>6697</td>\n",
       "      <td>9.8</td>\n",
       "    </tr>\n",
       "    <tr>\n",
       "      <th>4</th>\n",
       "      <td>41545</td>\n",
       "      <td>01.10.2016 4:57</td>\n",
       "      <td>1042</td>\n",
       "      <td>0.006493</td>\n",
       "      <td>sem</td>\n",
       "      <td>google</td>\n",
       "      <td>0.06</td>\n",
       "      <td>4510</td>\n",
       "      <td>14.8</td>\n",
       "    </tr>\n",
       "  </tbody>\n",
       "</table>\n",
       "</div>"
      ],
      "text/plain": [
       "      id              date  user_id  duration medium  source  cost  order_id  \\\n",
       "0  40443  05.10.2016 23:18     1010  0.000926    seo  google  0.00      6243   \n",
       "1  35044  09.10.2016 21:40     1036  0.006493    sem  yandex  0.07      6145   \n",
       "2  40177   05.10.2016 3:23     1041  0.003380  email   promo  0.00      6128   \n",
       "3  39401  05.10.2016 23:19     1041  0.000463    sem  yandex  0.03      6697   \n",
       "4  41545   01.10.2016 4:57     1042  0.006493    sem  google  0.06      4510   \n",
       "\n",
       "   amount_paid  \n",
       "0         20.2  \n",
       "1         15.6  \n",
       "2         13.2  \n",
       "3          9.8  \n",
       "4         14.8  "
      ]
     },
     "execution_count": 26,
     "metadata": {},
     "output_type": "execute_result"
    }
   ],
   "source": [
    "import pandas as pd\n",
    "data = pd.read_csv('data.tsv', sep='\\t')\n",
    "data.head()"
   ]
  },
  {
   "cell_type": "code",
   "execution_count": 27,
   "metadata": {
    "collapsed": true
   },
   "outputs": [],
   "source": [
    "def convert_to_datetime(row):\n",
    "    return datetime.strptime(row['date'], '%d.%m.%Y %H:%M')"
   ]
  },
  {
   "cell_type": "code",
   "execution_count": 28,
   "metadata": {},
   "outputs": [
    {
     "data": {
      "text/html": [
       "<div>\n",
       "<style>\n",
       "    .dataframe thead tr:only-child th {\n",
       "        text-align: right;\n",
       "    }\n",
       "\n",
       "    .dataframe thead th {\n",
       "        text-align: left;\n",
       "    }\n",
       "\n",
       "    .dataframe tbody tr th {\n",
       "        vertical-align: top;\n",
       "    }\n",
       "</style>\n",
       "<table border=\"1\" class=\"dataframe\">\n",
       "  <thead>\n",
       "    <tr style=\"text-align: right;\">\n",
       "      <th></th>\n",
       "      <th>id</th>\n",
       "      <th>date</th>\n",
       "      <th>user_id</th>\n",
       "      <th>duration</th>\n",
       "      <th>medium</th>\n",
       "      <th>source</th>\n",
       "      <th>cost</th>\n",
       "      <th>order_id</th>\n",
       "      <th>amount_paid</th>\n",
       "      <th>datetime</th>\n",
       "    </tr>\n",
       "  </thead>\n",
       "  <tbody>\n",
       "    <tr>\n",
       "      <th>0</th>\n",
       "      <td>40443</td>\n",
       "      <td>05.10.2016 23:18</td>\n",
       "      <td>1010</td>\n",
       "      <td>0.000926</td>\n",
       "      <td>seo</td>\n",
       "      <td>google</td>\n",
       "      <td>0.00</td>\n",
       "      <td>6243</td>\n",
       "      <td>20.2</td>\n",
       "      <td>2016-10-05 23:18:00</td>\n",
       "    </tr>\n",
       "    <tr>\n",
       "      <th>1</th>\n",
       "      <td>35044</td>\n",
       "      <td>09.10.2016 21:40</td>\n",
       "      <td>1036</td>\n",
       "      <td>0.006493</td>\n",
       "      <td>sem</td>\n",
       "      <td>yandex</td>\n",
       "      <td>0.07</td>\n",
       "      <td>6145</td>\n",
       "      <td>15.6</td>\n",
       "      <td>2016-10-09 21:40:00</td>\n",
       "    </tr>\n",
       "    <tr>\n",
       "      <th>2</th>\n",
       "      <td>40177</td>\n",
       "      <td>05.10.2016 3:23</td>\n",
       "      <td>1041</td>\n",
       "      <td>0.003380</td>\n",
       "      <td>email</td>\n",
       "      <td>promo</td>\n",
       "      <td>0.00</td>\n",
       "      <td>6128</td>\n",
       "      <td>13.2</td>\n",
       "      <td>2016-10-05 03:23:00</td>\n",
       "    </tr>\n",
       "    <tr>\n",
       "      <th>3</th>\n",
       "      <td>39401</td>\n",
       "      <td>05.10.2016 23:19</td>\n",
       "      <td>1041</td>\n",
       "      <td>0.000463</td>\n",
       "      <td>sem</td>\n",
       "      <td>yandex</td>\n",
       "      <td>0.03</td>\n",
       "      <td>6697</td>\n",
       "      <td>9.8</td>\n",
       "      <td>2016-10-05 23:19:00</td>\n",
       "    </tr>\n",
       "    <tr>\n",
       "      <th>4</th>\n",
       "      <td>41545</td>\n",
       "      <td>01.10.2016 4:57</td>\n",
       "      <td>1042</td>\n",
       "      <td>0.006493</td>\n",
       "      <td>sem</td>\n",
       "      <td>google</td>\n",
       "      <td>0.06</td>\n",
       "      <td>4510</td>\n",
       "      <td>14.8</td>\n",
       "      <td>2016-10-01 04:57:00</td>\n",
       "    </tr>\n",
       "  </tbody>\n",
       "</table>\n",
       "</div>"
      ],
      "text/plain": [
       "      id              date  user_id  duration medium  source  cost  order_id  \\\n",
       "0  40443  05.10.2016 23:18     1010  0.000926    seo  google  0.00      6243   \n",
       "1  35044  09.10.2016 21:40     1036  0.006493    sem  yandex  0.07      6145   \n",
       "2  40177   05.10.2016 3:23     1041  0.003380  email   promo  0.00      6128   \n",
       "3  39401  05.10.2016 23:19     1041  0.000463    sem  yandex  0.03      6697   \n",
       "4  41545   01.10.2016 4:57     1042  0.006493    sem  google  0.06      4510   \n",
       "\n",
       "   amount_paid            datetime  \n",
       "0         20.2 2016-10-05 23:18:00  \n",
       "1         15.6 2016-10-09 21:40:00  \n",
       "2         13.2 2016-10-05 03:23:00  \n",
       "3          9.8 2016-10-05 23:19:00  \n",
       "4         14.8 2016-10-01 04:57:00  "
      ]
     },
     "execution_count": 28,
     "metadata": {},
     "output_type": "execute_result"
    }
   ],
   "source": [
    "data['datetime'] = data.apply(convert_to_datetime, axis=1)\n",
    "data.head()"
   ]
  },
  {
   "cell_type": "markdown",
   "metadata": {},
   "source": [
    "Для подсчета разницы в датах есть много методов. Одним из самых простых является перевод времени в формат unixtime. Он означает количество секунд, прошедшее с 1 января 1970 года. Этот формат очень популярен и используется во многих системах. Попробуем использовать его для нашей задачи.\n",
    "\n",
    "Для перевод столбца datetime в unix-формат даты используем библиотеку time и следующую функцию:"
   ]
  },
  {
   "cell_type": "code",
   "execution_count": 29,
   "metadata": {
    "collapsed": true
   },
   "outputs": [],
   "source": [
    "import time\n",
    "def make_unix_time(row):\n",
    "    return time.mktime(row['datetime'].timetuple())"
   ]
  },
  {
   "cell_type": "code",
   "execution_count": 30,
   "metadata": {},
   "outputs": [
    {
     "data": {
      "text/html": [
       "<div>\n",
       "<style>\n",
       "    .dataframe thead tr:only-child th {\n",
       "        text-align: right;\n",
       "    }\n",
       "\n",
       "    .dataframe thead th {\n",
       "        text-align: left;\n",
       "    }\n",
       "\n",
       "    .dataframe tbody tr th {\n",
       "        vertical-align: top;\n",
       "    }\n",
       "</style>\n",
       "<table border=\"1\" class=\"dataframe\">\n",
       "  <thead>\n",
       "    <tr style=\"text-align: right;\">\n",
       "      <th></th>\n",
       "      <th>id</th>\n",
       "      <th>date</th>\n",
       "      <th>user_id</th>\n",
       "      <th>duration</th>\n",
       "      <th>medium</th>\n",
       "      <th>source</th>\n",
       "      <th>cost</th>\n",
       "      <th>order_id</th>\n",
       "      <th>amount_paid</th>\n",
       "      <th>datetime</th>\n",
       "      <th>unixtime</th>\n",
       "    </tr>\n",
       "  </thead>\n",
       "  <tbody>\n",
       "    <tr>\n",
       "      <th>0</th>\n",
       "      <td>40443</td>\n",
       "      <td>05.10.2016 23:18</td>\n",
       "      <td>1010</td>\n",
       "      <td>0.000926</td>\n",
       "      <td>seo</td>\n",
       "      <td>google</td>\n",
       "      <td>0.00</td>\n",
       "      <td>6243</td>\n",
       "      <td>20.2</td>\n",
       "      <td>2016-10-05 23:18:00</td>\n",
       "      <td>1.475699e+09</td>\n",
       "    </tr>\n",
       "    <tr>\n",
       "      <th>1</th>\n",
       "      <td>35044</td>\n",
       "      <td>09.10.2016 21:40</td>\n",
       "      <td>1036</td>\n",
       "      <td>0.006493</td>\n",
       "      <td>sem</td>\n",
       "      <td>yandex</td>\n",
       "      <td>0.07</td>\n",
       "      <td>6145</td>\n",
       "      <td>15.6</td>\n",
       "      <td>2016-10-09 21:40:00</td>\n",
       "      <td>1.476038e+09</td>\n",
       "    </tr>\n",
       "    <tr>\n",
       "      <th>2</th>\n",
       "      <td>40177</td>\n",
       "      <td>05.10.2016 3:23</td>\n",
       "      <td>1041</td>\n",
       "      <td>0.003380</td>\n",
       "      <td>email</td>\n",
       "      <td>promo</td>\n",
       "      <td>0.00</td>\n",
       "      <td>6128</td>\n",
       "      <td>13.2</td>\n",
       "      <td>2016-10-05 03:23:00</td>\n",
       "      <td>1.475627e+09</td>\n",
       "    </tr>\n",
       "    <tr>\n",
       "      <th>3</th>\n",
       "      <td>39401</td>\n",
       "      <td>05.10.2016 23:19</td>\n",
       "      <td>1041</td>\n",
       "      <td>0.000463</td>\n",
       "      <td>sem</td>\n",
       "      <td>yandex</td>\n",
       "      <td>0.03</td>\n",
       "      <td>6697</td>\n",
       "      <td>9.8</td>\n",
       "      <td>2016-10-05 23:19:00</td>\n",
       "      <td>1.475699e+09</td>\n",
       "    </tr>\n",
       "    <tr>\n",
       "      <th>4</th>\n",
       "      <td>41545</td>\n",
       "      <td>01.10.2016 4:57</td>\n",
       "      <td>1042</td>\n",
       "      <td>0.006493</td>\n",
       "      <td>sem</td>\n",
       "      <td>google</td>\n",
       "      <td>0.06</td>\n",
       "      <td>4510</td>\n",
       "      <td>14.8</td>\n",
       "      <td>2016-10-01 04:57:00</td>\n",
       "      <td>1.475287e+09</td>\n",
       "    </tr>\n",
       "  </tbody>\n",
       "</table>\n",
       "</div>"
      ],
      "text/plain": [
       "      id              date  user_id  duration medium  source  cost  order_id  \\\n",
       "0  40443  05.10.2016 23:18     1010  0.000926    seo  google  0.00      6243   \n",
       "1  35044  09.10.2016 21:40     1036  0.006493    sem  yandex  0.07      6145   \n",
       "2  40177   05.10.2016 3:23     1041  0.003380  email   promo  0.00      6128   \n",
       "3  39401  05.10.2016 23:19     1041  0.000463    sem  yandex  0.03      6697   \n",
       "4  41545   01.10.2016 4:57     1042  0.006493    sem  google  0.06      4510   \n",
       "\n",
       "   amount_paid            datetime      unixtime  \n",
       "0         20.2 2016-10-05 23:18:00  1.475699e+09  \n",
       "1         15.6 2016-10-09 21:40:00  1.476038e+09  \n",
       "2         13.2 2016-10-05 03:23:00  1.475627e+09  \n",
       "3          9.8 2016-10-05 23:19:00  1.475699e+09  \n",
       "4         14.8 2016-10-01 04:57:00  1.475287e+09  "
      ]
     },
     "execution_count": 30,
     "metadata": {},
     "output_type": "execute_result"
    }
   ],
   "source": [
    "data['unixtime'] = data.apply(make_unix_time, axis=1)\n",
    "data.head()"
   ]
  },
  {
   "cell_type": "code",
   "execution_count": 31,
   "metadata": {
    "collapsed": true,
    "scrolled": true
   },
   "outputs": [],
   "source": [
    "data1 = data.groupby('user_id').agg({'unixtime':['min','max']}).reset_index()"
   ]
  },
  {
   "cell_type": "code",
   "execution_count": 32,
   "metadata": {},
   "outputs": [
    {
     "data": {
      "text/plain": [
       "0      1.475699e+09\n",
       "1      1.476038e+09\n",
       "2      1.475699e+09\n",
       "3      1.475934e+09\n",
       "4      1.475693e+09\n",
       "5      1.475945e+09\n",
       "6      1.475970e+09\n",
       "7      1.476020e+09\n",
       "8      1.475631e+09\n",
       "9      1.475564e+09\n",
       "10     1.475581e+09\n",
       "11     1.475675e+09\n",
       "12     1.475312e+09\n",
       "13     1.475929e+09\n",
       "14     1.475820e+09\n",
       "15     1.475991e+09\n",
       "16     1.475903e+09\n",
       "17     1.475961e+09\n",
       "18     1.476004e+09\n",
       "19     1.475766e+09\n",
       "20     1.475699e+09\n",
       "21     1.476037e+09\n",
       "22     1.475721e+09\n",
       "23     1.475333e+09\n",
       "24     1.475744e+09\n",
       "25     1.475957e+09\n",
       "26     1.475525e+09\n",
       "27     1.475564e+09\n",
       "28     1.475330e+09\n",
       "29     1.475716e+09\n",
       "           ...     \n",
       "94     1.475608e+09\n",
       "95     1.475888e+09\n",
       "96     1.475448e+09\n",
       "97     1.475890e+09\n",
       "98     1.475543e+09\n",
       "99     1.475770e+09\n",
       "100    1.475447e+09\n",
       "101    1.475440e+09\n",
       "102    1.475899e+09\n",
       "103    1.475404e+09\n",
       "104    1.475693e+09\n",
       "105    1.475608e+09\n",
       "106    1.475289e+09\n",
       "107    1.475822e+09\n",
       "108    1.475555e+09\n",
       "109    1.475534e+09\n",
       "110    1.475850e+09\n",
       "111    1.475698e+09\n",
       "112    1.475753e+09\n",
       "113    1.475978e+09\n",
       "114    1.475692e+09\n",
       "115    1.475644e+09\n",
       "116    1.475484e+09\n",
       "117    1.475292e+09\n",
       "118    1.475464e+09\n",
       "119    1.475721e+09\n",
       "120    1.475614e+09\n",
       "121    1.475633e+09\n",
       "122    1.475697e+09\n",
       "123    1.476052e+09\n",
       "Name: max, Length: 124, dtype: float64"
      ]
     },
     "execution_count": 32,
     "metadata": {},
     "output_type": "execute_result"
    }
   ],
   "source": [
    "data1['unixtime']['max'] #вот как можно обращаться к подколонке"
   ]
  },
  {
   "cell_type": "code",
   "execution_count": 33,
   "metadata": {
    "collapsed": true,
    "scrolled": true
   },
   "outputs": [],
   "source": [
    "data2 = data1['unixtime']"
   ]
  },
  {
   "cell_type": "code",
   "execution_count": 34,
   "metadata": {},
   "outputs": [
    {
     "data": {
      "text/plain": [
       "0      1.475699e+09\n",
       "1      1.476038e+09\n",
       "2      1.475699e+09\n",
       "3      1.475934e+09\n",
       "4      1.475693e+09\n",
       "5      1.475945e+09\n",
       "6      1.475970e+09\n",
       "7      1.476020e+09\n",
       "8      1.475631e+09\n",
       "9      1.475564e+09\n",
       "10     1.475581e+09\n",
       "11     1.475675e+09\n",
       "12     1.475312e+09\n",
       "13     1.475929e+09\n",
       "14     1.475820e+09\n",
       "15     1.475991e+09\n",
       "16     1.475903e+09\n",
       "17     1.475961e+09\n",
       "18     1.476004e+09\n",
       "19     1.475766e+09\n",
       "20     1.475699e+09\n",
       "21     1.476037e+09\n",
       "22     1.475721e+09\n",
       "23     1.475333e+09\n",
       "24     1.475744e+09\n",
       "25     1.475957e+09\n",
       "26     1.475525e+09\n",
       "27     1.475564e+09\n",
       "28     1.475330e+09\n",
       "29     1.475716e+09\n",
       "           ...     \n",
       "94     1.475608e+09\n",
       "95     1.475888e+09\n",
       "96     1.475448e+09\n",
       "97     1.475890e+09\n",
       "98     1.475543e+09\n",
       "99     1.475770e+09\n",
       "100    1.475447e+09\n",
       "101    1.475440e+09\n",
       "102    1.475899e+09\n",
       "103    1.475404e+09\n",
       "104    1.475693e+09\n",
       "105    1.475608e+09\n",
       "106    1.475289e+09\n",
       "107    1.475822e+09\n",
       "108    1.475555e+09\n",
       "109    1.475534e+09\n",
       "110    1.475850e+09\n",
       "111    1.475698e+09\n",
       "112    1.475753e+09\n",
       "113    1.475978e+09\n",
       "114    1.475692e+09\n",
       "115    1.475644e+09\n",
       "116    1.475484e+09\n",
       "117    1.475292e+09\n",
       "118    1.475464e+09\n",
       "119    1.475721e+09\n",
       "120    1.475614e+09\n",
       "121    1.475633e+09\n",
       "122    1.475697e+09\n",
       "123    1.476052e+09\n",
       "Name: max, Length: 124, dtype: float64"
      ]
     },
     "execution_count": 34,
     "metadata": {},
     "output_type": "execute_result"
    }
   ],
   "source": [
    "data2['max']"
   ]
  },
  {
   "cell_type": "code",
   "execution_count": 35,
   "metadata": {
    "collapsed": true
   },
   "outputs": [],
   "source": [
    "data2['diff'] = data2['max'] - data2['min']"
   ]
  },
  {
   "cell_type": "code",
   "execution_count": 36,
   "metadata": {},
   "outputs": [
    {
     "data": {
      "text/plain": [
       "0           0.0\n",
       "1           0.0\n",
       "2       71760.0\n",
       "3      647340.0\n",
       "4      374520.0\n",
       "5      121020.0\n",
       "6      401700.0\n",
       "7           0.0\n",
       "8           0.0\n",
       "9           0.0\n",
       "10          0.0\n",
       "11          0.0\n",
       "12          0.0\n",
       "13     608340.0\n",
       "14          0.0\n",
       "15     705780.0\n",
       "16          0.0\n",
       "17     326280.0\n",
       "18     266400.0\n",
       "19      86280.0\n",
       "20          0.0\n",
       "21     684060.0\n",
       "22      46620.0\n",
       "23          0.0\n",
       "24     198060.0\n",
       "25     630720.0\n",
       "26     174900.0\n",
       "27      93300.0\n",
       "28          0.0\n",
       "29      88140.0\n",
       "         ...   \n",
       "94          0.0\n",
       "95          0.0\n",
       "96          0.0\n",
       "97          0.0\n",
       "98          0.0\n",
       "99          0.0\n",
       "100         0.0\n",
       "101         0.0\n",
       "102         0.0\n",
       "103         0.0\n",
       "104         0.0\n",
       "105         0.0\n",
       "106         0.0\n",
       "107         0.0\n",
       "108         0.0\n",
       "109         0.0\n",
       "110         0.0\n",
       "111         0.0\n",
       "112         0.0\n",
       "113         0.0\n",
       "114         0.0\n",
       "115         0.0\n",
       "116         0.0\n",
       "117         0.0\n",
       "118         0.0\n",
       "119         0.0\n",
       "120         0.0\n",
       "121         0.0\n",
       "122         0.0\n",
       "123    721380.0\n",
       "Name: diff, Length: 124, dtype: float64"
      ]
     },
     "execution_count": 36,
     "metadata": {},
     "output_type": "execute_result"
    }
   ],
   "source": [
    "data2['diff']"
   ]
  },
  {
   "cell_type": "code",
   "execution_count": 37,
   "metadata": {
    "collapsed": true
   },
   "outputs": [],
   "source": [
    "data3 = data2.query('diff > 0')"
   ]
  },
  {
   "cell_type": "code",
   "execution_count": 38,
   "metadata": {},
   "outputs": [
    {
     "data": {
      "text/plain": [
       "3.485416666666667"
      ]
     },
     "execution_count": 38,
     "metadata": {},
     "output_type": "execute_result"
    }
   ],
   "source": [
    "data3['diff'].mean()//60/60/24"
   ]
  },
  {
   "cell_type": "code",
   "execution_count": null,
   "metadata": {
    "collapsed": true
   },
   "outputs": [],
   "source": []
  }
 ],
 "metadata": {
  "kernelspec": {
   "display_name": "Python 3",
   "language": "python",
   "name": "python3"
  },
  "language_info": {
   "codemirror_mode": {
    "name": "ipython",
    "version": 3
   },
   "file_extension": ".py",
   "mimetype": "text/x-python",
   "name": "python",
   "nbconvert_exporter": "python",
   "pygments_lexer": "ipython3",
   "version": "3.6.8"
  }
 },
 "nbformat": 4,
 "nbformat_minor": 2
}
