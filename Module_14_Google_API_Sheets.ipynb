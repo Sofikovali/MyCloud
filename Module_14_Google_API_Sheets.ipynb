{
 "cells": [
  {
   "cell_type": "markdown",
   "metadata": {},
   "source": [
    "Для работы с Google Sheets сначала необходимо пройти процедуру авторизации с помощью Google Developers Console.\n",
    "\n",
    "Она аналогична той, что мы делали в прошлом модуле для API Google Analytics.\n",
    "\n",
    "Итак, заходим в консоль разработчика https://console.developers.google.com. В ней должен остаться доступ к Google Analytics Reporting API с прошлого модуля (но в данном модуле он нам не пригодится). Нажимаем на \"Включить API и сервисы\":\n"
   ]
  },
  {
   "cell_type": "code",
   "execution_count": 6,
   "metadata": {
    "collapsed": true
   },
   "outputs": [],
   "source": [
    "import httplib2\n",
    "import argparse\n",
    "from apiclient import discovery\n",
    "from oauth2client import client\n",
    "from oauth2client import tools\n",
    "from oauth2client.file import Storage"
   ]
  },
  {
   "cell_type": "markdown",
   "metadata": {},
   "source": [
    "Задаем основные параметры приложения, от имени которого будем делать запросы к Google Sheets API:"
   ]
  },
  {
   "cell_type": "code",
   "execution_count": 7,
   "metadata": {
    "collapsed": true
   },
   "outputs": [],
   "source": [
    "# Разрешения на просмотр и редактирование\n",
    "SCOPES = 'https://www.googleapis.com/auth/spreadsheets'\n",
    "# Название файла с идентификаторами\n",
    "CLIENT_SECRET_FILE = 'client_secret_grants.json'\n",
    "# Название приложения для нашего онлайн-отчета (можно использовать любое)\n",
    "APPLICATION_NAME = 'Google Sheets API Report'\n",
    "# название файла, в который после процедуры авторизации будут записаны токены (сейчас его еще не должно быть в папке)\n",
    "# для Google Analytics этот файл назывался 'analytics.dat', но в разработчики Google Sheets API выбрали другое название\n",
    "# чтобы вам при необходимости было проще ориентироваться в документации Google API, мы сохранили такую же систему обозначений\n",
    "credential_path = 'sheets.googleapis.com-report.json'"
   ]
  },
  {
   "cell_type": "markdown",
   "metadata": {},
   "source": [
    "Проходим процесс авторизации для работы с Google Sheets в первый раз:\n",
    "\n",
    "В открывшемся окне выбираем нужный аккаунт (если у вас их несколько).\n",
    "Даем вашему приложению разрешение на \"Просмотр и изменение электронных таблиц на Google Диске\".\n",
    "Процесс должен завершиться со служебным сообщением \"The authentication flow has completed\"."
   ]
  },
  {
   "cell_type": "code",
   "execution_count": 10,
   "metadata": {},
   "outputs": [],
   "source": [
    "store = Storage(credential_path)\n",
    "credentials = store.get()\n",
    "parser = argparse.ArgumentParser(formatter_class=argparse.RawDescriptionHelpFormatter, parents=[tools.argparser])\n",
    "flags = parser.parse_args([])\n",
    "if not credentials or credentials.invalid:\n",
    "    flow = client.flow_from_clientsecrets(CLIENT_SECRET_FILE, SCOPES)\n",
    "    flow.user_agent = APPLICATION_NAME\n",
    "    if flags:\n",
    "        credentials = tools.run_flow(flow, store, flags)\n",
    "    print('Storing credentials to ' + credential_path)"
   ]
  },
  {
   "cell_type": "markdown",
   "metadata": {},
   "source": [
    "В вашей папке должен появиться файл \"sheets.googleapis.com-report.json\", в котором содержится токен access_token для запросов к API Google Sheets и refresh_token для его обновления.\n",
    "\n",
    "Формируем объект service, с помощью которого мы будем читать и записывать данные Google Sheets:"
   ]
  },
  {
   "cell_type": "code",
   "execution_count": 11,
   "metadata": {
    "collapsed": true
   },
   "outputs": [],
   "source": [
    "http = credentials.authorize(httplib2.Http())\n",
    "discoveryUrl = ('https://sheets.googleapis.com/$discovery/rest?version=v4')\n",
    "service = discovery.build('sheets', 'v4', http = http, discoveryServiceUrl = discoveryUrl)"
   ]
  },
  {
   "cell_type": "markdown",
   "metadata": {},
   "source": [
    "Отлично, теперь мы полностью готовы к автоматизированной работе с Google Sheets."
   ]
  },
  {
   "cell_type": "markdown",
   "metadata": {},
   "source": [
    "На этом шаге мы научимся считывать данные из Google-таблиц.\n",
    "\n",
    "Этот алгоритм может сильно упростить вам многие задачи обработки данных, т. к. вы и ваши коллеги можете обновлять необходимые словари, зависимости и другие таблицы онлайн. К тому же в Google Sheets можно распределять доступы на чтение и редактирование таблиц.\n",
    "\n",
    "Давайте разберем это на примере ведения отчетности маркетинговых кампаний.\n",
    "\n",
    "Допустим, на ваш сайт приходит трафик от нескольких партнеров (назовем их СМИ2, РБК и Infox). У каждого партнера в ссылках на ваш сайт имеется свой набор UTM-меток.\n",
    "\n",
    "Справочная информация: под UTM-меткой подразумевается принятая в маркетинге система обозначений параметров ссылок, которые автоматически распознаются многими системами веб-аналитики как название источника и канала. Пример ссылки с UTM-метками:\n",
    "\n",
    "https://my-site.ru/?utm_source=infox&utm_medium=cpc\n",
    "\n",
    "Вам необходимо составить отчет по количеству визитов, продаж и прочим метрикам в разбивке по партнерам СМИ2, РБК и Infox.\n",
    "\n",
    "Проблема в том, что названия UTM-меток могут меняться (обычно так и случается в реальной жизни). Конечно, можно договориться о том, что вам при любом обновлении будут присылать обновленный список названий UTM-меток. Скорее всего, работать это не будет.\n",
    "\n",
    "Более простым вариантом является ведение онлайн-таблицы, в которой будут отмечаться эти изменения.\n",
    "\n",
    "Обычно такие таблицы в том или ином виде ведутся (иногда, правда, в Excel). Перенести их в Google Sheets обычно не составляет труда.\n",
    "\n",
    "В итоге, если вам составят обновляемую таблицу с UTM-метками, то вы (и ваш скрипт) всегда сможете узнать, какой набор UTM-меток какому партнеру соответствует:"
   ]
  },
  {
   "cell_type": "markdown",
   "metadata": {},
   "source": [
    "Для того, чтобы автоматически прочитать ее содержимое, нам понадобятся два параметра:\n",
    "\n",
    "1. ID книги Google Sheets. Для ее получения скопируйте адрес страницы, на которой расположена ваша таблица словаря меток.\n",
    "\n",
    "URL должен иметь вид https://docs.google.com/spreadsheets/d/136LYwwrKSQ2bct8h29_yjeXo-70RTwA_-VGF5KONrIM/edit#gid=0\n",
    "2. Для чтения данных нам также необходимо указать название листа (если их несколько) и диапазон.\n",
    "\n",
    "Например, в данном модуле у нас будет 2 листа: текущий можно назвать \"partners dict\", а также мы сделаем онлайн-отчет на листе \"daily_metrics\".\n",
    "\n",
    "Сама таблица помещается в диапазон A1:C5. Поскольку этот список в будущем может вырасти, то возьмем с запасом до строки 10:\n",
    "spreadsheetId = '136LYwwrKSQ2bct8h29_yjeXo-70RTwA_-VGF5KONrIM'"
   ]
  },
  {
   "cell_type": "code",
   "execution_count": 12,
   "metadata": {
    "collapsed": true
   },
   "outputs": [],
   "source": [
    "spreadsheetId = '136LYwwrKSQ2bct8h29_yjeXo-70RTwA_-VGF5KONrIM'\n",
    "rangeName = 'partners dict!A1:C10'"
   ]
  },
  {
   "cell_type": "markdown",
   "metadata": {},
   "source": [
    "Все готово, делаем запрос к API. Результат записываем в переменную values:"
   ]
  },
  {
   "cell_type": "code",
   "execution_count": 13,
   "metadata": {},
   "outputs": [
    {
     "name": "stdout",
     "output_type": "stream",
     "text": [
      "[['Партнер', 'utm_source', 'utm_medium'], ['СМИ2', 'smi2', 'cpm'], ['РБК', 'rbc', 'cpc'], ['Infox', 'infox', 'cpc'], ['Infox', 'infox-action', 'cpa']]\n"
     ]
    }
   ],
   "source": [
    "result = service.spreadsheets().values().get(spreadsheetId = spreadsheetId, range = rangeName).execute()\n",
    "values = result.get('values', [])\n",
    "print(values)"
   ]
  },
  {
   "cell_type": "markdown",
   "metadata": {},
   "source": [
    "Запрос автоматически убрал из ответа пустые строки. Теперь лист values можно использовать как словарь для вашей отчетности по партнерам."
   ]
  },
  {
   "cell_type": "markdown",
   "metadata": {},
   "source": [
    "Подготовимся к импорту данных из Яндекс.Метрики: в файл config.yaml пишем токен для запросов к API. В файле params.yaml в строку с spreadsheet_id необходимо вставить ID вашей книги. В файле report_params.yaml записываются параметры отчетов, которые мы хотим визуализировать:\n",
    "\n",
    "Файл report_params.yaml\n",
    "\n",
    "dau — служебное название отчета. Если вы захотите добавить еще один отчет, то сделайте копию этого названия со всем параметрами под ним.\n",
    "dimensions и metrics — измерения и метрики, которые будем отправлять в запросе к API Яндекс.Метрики.\n",
    "sort — метрика, по которой будем сортировать отчет. В нашем случае это дата отчета.\n",
    "days_ago — за какой период выгружаем отчет. В нашем варианте - за последние 14 дней.\n",
    "spreadsheet_id — ID книги в Google Sheets, где расположен отчет (подставьте ID своей книги).\n",
    "range_name — название листа отчета (daily_metrics), диапазон столбцов, в которых будет располагаться выгрузка (с A по E).\n",
    "Далее импортируем те же методы и функции, которые использовали при работе с API Яндекс.Метрики:"
   ]
  },
  {
   "cell_type": "code",
   "execution_count": 14,
   "metadata": {
    "collapsed": true
   },
   "outputs": [],
   "source": [
    "from yaml import load\n",
    "from datetime import datetime, timedelta\n",
    "import requests\n",
    "from pprint import pprint"
   ]
  },
  {
   "cell_type": "code",
   "execution_count": 15,
   "metadata": {
    "collapsed": true
   },
   "outputs": [],
   "source": [
    "token = 'AQAAAAATeulOAAWPR1HqyVDuRET3vmW66cppHDU'"
   ]
  },
  {
   "cell_type": "code",
   "execution_count": 17,
   "metadata": {},
   "outputs": [],
   "source": [
    "f = open('report_params.yaml', 'r')\n",
    "params = load(f)\n",
    "API_URL = 'https://api-metrika.yandex.ru/stat/v1/data'\n",
    "startDate = '2018-02-25'\n",
    "endDate = '2018-03-10'\n",
    "dimensions = params['reports']['dau']['dimensions']\n",
    "metrics = params['reports']['dau']['metrics']\n",
    "sortby = params['reports']['dau']['sort']\n",
    "counter = params['metrika counter']"
   ]
  },
  {
   "cell_type": "markdown",
   "metadata": {},
   "source": [
    "Используем функции для запроса и обработки ответа API из прошлых модулей:"
   ]
  },
  {
   "cell_type": "code",
   "execution_count": 18,
   "metadata": {
    "collapsed": true
   },
   "outputs": [],
   "source": [
    "def make_request(**kwargs):\n",
    "    \"\"\"Запрос к API Яндекс.Метрики. Возвращает JSON ответа\"\"\"   \n",
    "    return requests.get(API_URL, params = kwargs).json()\n",
    "def json_handler(data):\n",
    "    \"\"\"Преобразование ответа из JSON в список листов\"\"\"\n",
    "    report = []\n",
    "    for line in data['data']:\n",
    "        dimensions_list = [x['name'] for x in line['dimensions']]\n",
    "        metrics_list = line['metrics']\n",
    "        report.append( dimensions_list + metrics_list )    \n",
    "    return report"
   ]
  },
  {
   "cell_type": "code",
   "execution_count": 19,
   "metadata": {
    "collapsed": true
   },
   "outputs": [],
   "source": [
    "response = make_request(date1 = startDate, date2 = endDate, dimensions = dimensions, metrics = metrics, \n",
    "                    id = counter, sort = sortby, oauth_token = token, accuracy = 1)"
   ]
  },
  {
   "cell_type": "code",
   "execution_count": 20,
   "metadata": {},
   "outputs": [
    {
     "data": {
      "text/plain": [
       "[['2018-02-25', 202.0, 193.0, 386.0, 15.34653465],\n",
       " ['2018-02-26', 279.0, 264.0, 440.0, 13.62007168],\n",
       " ['2018-02-27', 280.0, 258.0, 481.0, 18.21428571],\n",
       " ['2018-02-28', 294.0, 278.0, 399.0, 15.98639456],\n",
       " ['2018-03-01', 293.0, 272.0, 430.0, 15.35836177],\n",
       " ['2018-03-02', 317.0, 284.0, 441.0, 12.30283912],\n",
       " ['2018-03-03', 342.0, 292.0, 551.0, 15.78947368],\n",
       " ['2018-03-04', 265.0, 233.0, 429.0, 19.62264151],\n",
       " ['2018-03-05', 282.0, 257.0, 427.0, 17.0212766],\n",
       " ['2018-03-06', 258.0, 229.0, 389.0, 17.82945736],\n",
       " ['2018-03-07', 203.0, 185.0, 318.0, 12.31527094],\n",
       " ['2018-03-08', 198.0, 168.0, 382.0, 11.61616162],\n",
       " ['2018-03-09', 258.0, 232.0, 514.0, 18.21705426],\n",
       " ['2018-03-10', 221.0, 198.0, 429.0, 20.36199095]]"
      ]
     },
     "execution_count": 20,
     "metadata": {},
     "output_type": "execute_result"
    }
   ],
   "source": [
    "data = json_handler(response)\n",
    "data"
   ]
  },
  {
   "cell_type": "code",
   "execution_count": 21,
   "metadata": {},
   "outputs": [
    {
     "data": {
      "text/plain": [
       "3692.0"
      ]
     },
     "execution_count": 21,
     "metadata": {},
     "output_type": "execute_result"
    }
   ],
   "source": [
    "import pandas as pd\n",
    "labels = ['date', 'visits', 'users', 'views','cancels']\n",
    "df = pd.DataFrame.from_records(data, columns=labels)\n",
    "df['visits'].sum()"
   ]
  },
  {
   "cell_type": "markdown",
   "metadata": {},
   "source": [
    "Данные получили, осталось отправить их в Google Sheets. Сначала сформируем название диапазона (daily_metrics!A2:E15), в который отправим данные Метрики:"
   ]
  },
  {
   "cell_type": "code",
   "execution_count": 22,
   "metadata": {
    "collapsed": true
   },
   "outputs": [],
   "source": [
    "range_data = params['reports']['dau']['range_name']\n",
    "range_name = '{}!{}{}:{}{}'.format(range_data['list'], range_data['start'], 2, range_data['end'], len(data) + 1)\n"
   ]
  },
  {
   "cell_type": "code",
   "execution_count": 23,
   "metadata": {},
   "outputs": [
    {
     "name": "stdout",
     "output_type": "stream",
     "text": [
      "daily_metrics!A2:E15\n"
     ]
    }
   ],
   "source": [
    "print(range_name)"
   ]
  },
  {
   "cell_type": "markdown",
   "metadata": {},
   "source": [
    "Для отправки листа data в Google Sheets его необходимо преобразовать в словарь:"
   ]
  },
  {
   "cell_type": "code",
   "execution_count": 24,
   "metadata": {},
   "outputs": [
    {
     "name": "stdout",
     "output_type": "stream",
     "text": [
      "{'values': [['2018-02-25', 202.0, 193.0, 386.0, 15.34653465],\n",
      "            ['2018-02-26', 279.0, 264.0, 440.0, 13.62007168],\n",
      "            ['2018-02-27', 280.0, 258.0, 481.0, 18.21428571],\n",
      "            ['2018-02-28', 294.0, 278.0, 399.0, 15.98639456],\n",
      "            ['2018-03-01', 293.0, 272.0, 430.0, 15.35836177],\n",
      "            ['2018-03-02', 317.0, 284.0, 441.0, 12.30283912],\n",
      "            ['2018-03-03', 342.0, 292.0, 551.0, 15.78947368],\n",
      "            ['2018-03-04', 265.0, 233.0, 429.0, 19.62264151],\n",
      "            ['2018-03-05', 282.0, 257.0, 427.0, 17.0212766],\n",
      "            ['2018-03-06', 258.0, 229.0, 389.0, 17.82945736],\n",
      "            ['2018-03-07', 203.0, 185.0, 318.0, 12.31527094],\n",
      "            ['2018-03-08', 198.0, 168.0, 382.0, 11.61616162],\n",
      "            ['2018-03-09', 258.0, 232.0, 514.0, 18.21705426],\n",
      "            ['2018-03-10', 221.0, 198.0, 429.0, 20.36199095]]}\n"
     ]
    }
   ],
   "source": [
    "body = {'values': data}\n",
    "pprint(body)"
   ]
  },
  {
   "cell_type": "markdown",
   "metadata": {},
   "source": [
    "Наконец, отправляем эти данные в Google Sheets. Опция valueInputOption дает команду API на то, что значения надо вставить так, как если бы пользователь ввел их вручную в веб-интерфейсе. Подробнее: https://developers.google.com/sheets/api/reference/rest/v4/ValueInputOption"
   ]
  },
  {
   "cell_type": "code",
   "execution_count": 25,
   "metadata": {},
   "outputs": [
    {
     "data": {
      "text/plain": [
       "{'spreadsheetId': '136LYwwrKSQ2bct8h29_yjeXo-70RTwA_-VGF5KONrIM',\n",
       " 'updatedCells': 70,\n",
       " 'updatedColumns': 5,\n",
       " 'updatedRange': 'daily_metrics!A2:E15',\n",
       " 'updatedRows': 14}"
      ]
     },
     "execution_count": 25,
     "metadata": {},
     "output_type": "execute_result"
    }
   ],
   "source": [
    "service.spreadsheets().values().update( spreadsheetId = spreadsheetId, range = range_name, valueInputOption = 'USER_ENTERED', body = body ).execute()"
   ]
  },
  {
   "cell_type": "markdown",
   "metadata": {},
   "source": [
    "В этом шаге мы познакомимся с основами простых визуализаций в Google Sheets – добавим вишенку на торт вашего отчета.\n",
    "\n",
    "Для быстрой отрисовки графика выделите диапазон A1:B15. В верхнем меню во вкладке \"Вставка\" выберите \"Диаграмма\":"
   ]
  }
 ],
 "metadata": {
  "kernelspec": {
   "display_name": "Python 3",
   "language": "python",
   "name": "python3"
  },
  "language_info": {
   "codemirror_mode": {
    "name": "ipython",
    "version": 3
   },
   "file_extension": ".py",
   "mimetype": "text/x-python",
   "name": "python",
   "nbconvert_exporter": "python",
   "pygments_lexer": "ipython3",
   "version": "3.6.8"
  }
 },
 "nbformat": 4,
 "nbformat_minor": 2
}
