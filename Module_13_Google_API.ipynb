{
 "cells": [
  {
   "cell_type": "markdown",
   "metadata": {},
   "source": [
    "Работа с Google API происходит через так называемый протокол OAuth 2.0.\n",
    "\n",
    "Протокол OAuth 2.0 используется во многих системах и позволяет значительно повысить уровень безопасности доступа к вашим данным. Конечно, это усложняет настройку доступа к данным по API, но мы изучим самый простой из возможных вариантов. \n",
    "\n",
    "\n",
    "\n",
    "Помимо протокола ОAuth 2.0, есть другие способы защиты данных с точки зрения пользователя, но все они имеют существенные недостатки. \n",
    "\n",
    "Использование логина и пароля\n",
    "\n",
    "Какие недостатки имеет этот способ:\n",
    "\n",
    "потеря логина и пароля равносильна публикации данных на Facebook;\n",
    "при необходимости изменить пароль надо обходить все приложения и скрипты;\n",
    "хранить пароль в открытом виде (например, в тексте кода) вообще идея плохая.\n",
    "Некоторые системы позволяют использовать вместо пароля специально сгенерированный токен (примерно, как в API Яндекс.Метрики, только токен рассчитывается, как хэш от вашего пароля). Этот способ немного лучше, но все равно ненадежен.\n",
    "\n",
    "Постоянный токен\n",
    "\n",
    "(как отладочный токен у Яндекс.Метрики)\n",
    "\n",
    "потеря токена в руках грамотного специалиста равносильна потере пароля.\n",
    "Использование протокола SSH с приватным и открытым ключом\n",
    "\n",
    "сложно управлять и заменять;\n",
    "приватный ключ лучше никогда не передавать по сети, что накладывает массу ограничений;\n",
    "в случае потери замена займет относительно много времени.\n",
    "Протокол OAuth 2.0\n",
    "С недостатками разобрались. Сформулируем требования, которые позволили бы повысить безопасность данных:\n",
    "\n",
    "токен может быть получен только доверенным пользователем;\n",
    "потеря токена не позволит кому-либо получить «много» данных, т. е. токен надо регулярно обновлять;\n",
    "каждое приложение имеет свои права и набор сертификатов;\n",
    "доступами приложений можно оперативно управлять.\n",
    "Для всего этого был разработан протокол OAuth 2.0.\n",
    "\n",
    "Какие принципы работы позволяют ему обезопасить ваши данные? Доступ к данным контролируется двумя сторонами: интерфейсом Google Developers Console, в котором вы создаете приложения и назначаете им права, и скриптом на вашей стороне, который от имени приложения запрашивает разрешения и данные у нужной системы (в нашем случае это будет Google Analytics).\n",
    "\n",
    "Что делается на стороне Google Developers Console:\n",
    "\n",
    "для доступа к данным создается приложение со своими правами на использование API систем Google;\n",
    "у каждого приложения создаются свои сертификаты (credentials);\n",
    "сертификаты могут использоваться для генерации токена только с определенного набора хостов и скриптов.\n",
    "На стороне вашего скрипта:\n",
    "\n",
    "для генерации токена (хотя бы в первый раз) требуется разрешение пользователя под нужным логином;\n",
    "для каждого токена можно задавать свои разрешения на работу с системой;\n",
    "время работы токена ограничено (обычно 1 час), для дальнейшей выгрузки данных нужен новый токен.\n",
    "В следующем шаге мы пройдемся по всей процедуре генерации токена для получения данных Google Analytics. Сейчас нам важно помнить следующие особенности:\n",
    "\n",
    "Токен для запросов к API (обозначается access_token) действует ограниченное время, обычно 1 час. Для его обновления используется refresh_token, который генерируется один раз (его можно обновлять, но не стоит делать это очень часто).\n",
    "Приложение, от имени которого вы делаете запросы к Google Analytics, должно предварительно получить права на эти данные в интерфейсе Google Developers Console. Права назначаются на каждую систему API отдельно. Например, можно дать права на чтение последних видео Youtube-канала и редактирование прав пользователей вашего аккаунта в Google Analytics.\n",
    "При первом получении access_token и refresh_token вы должны быть залогинены в свой Google-аккаунт, чтобы дать приложению разрешение на доступ к вашим данным."
   ]
  },
  {
   "cell_type": "markdown",
   "metadata": {},
   "source": [
    "Для работы с API сервисов Google необходимо создать приложение и дать ему права на использование данных нужного сервиса Google (в текущем модуле это будет Google Analytics).\n",
    "\n",
    "Все примерно так, как мы делали для сервисов Яндекса. Заходим на https://console.developers.google.com под Google аккаунтом, который имеет доступ к данным Google Analytics нашего учебного сайта.\n",
    "\n",
    "Для удобной работы с авторизацией Google нам необходима библиотека google-api-python-client. Для ее установки исполните следующий код (восклицательный знак в начале имитирует командную строку в Jupyter notebook, что необходимо для установки библиотек)."
   ]
  },
  {
   "cell_type": "code",
   "execution_count": 1,
   "metadata": {},
   "outputs": [
    {
     "name": "stdout",
     "output_type": "stream",
     "text": [
      "Collecting google-api-python-client\n",
      "\u001b[?25l  Downloading https://files.pythonhosted.org/packages/55/e9/e8fb2e3a031cb69b9524b80a92b126665d9a17421700a219555e3233ab6a/google_api_python_client-1.7.8-py3-none-any.whl (56kB)\n",
      "\u001b[K    100% |████████████████████████████████| 61kB 798kB/s ta 0:00:01\n",
      "\u001b[?25hCollecting google-auth>=1.4.1 (from google-api-python-client)\n",
      "\u001b[?25l  Downloading https://files.pythonhosted.org/packages/c5/9b/ed0516cc1f7609fb0217e3057ff4f0f9f3e3ce79a369c6af4a6c5ca25664/google_auth-1.6.3-py2.py3-none-any.whl (73kB)\n",
      "\u001b[K    100% |████████████████████████████████| 81kB 1.9MB/s ta 0:00:01\n",
      "\u001b[?25hCollecting httplib2<1dev,>=0.9.2 (from google-api-python-client)\n",
      "\u001b[?25l  Downloading https://files.pythonhosted.org/packages/75/d0/f213003c9deec99fb4f46e54580b93a3b121c487d9d6d888fc12267eb2a2/httplib2-0.12.1.tar.gz (218kB)\n",
      "\u001b[K    100% |████████████████████████████████| 225kB 10.4MB/s a 0:00:01\n",
      "\u001b[?25hRequirement already satisfied, skipping upgrade: six<2dev,>=1.6.1 in ./anaconda3/lib/python3.6/site-packages (from google-api-python-client) (1.10.0)\n",
      "Collecting uritemplate<4dev,>=3.0.0 (from google-api-python-client)\n",
      "  Downloading https://files.pythonhosted.org/packages/e5/7d/9d5a640c4f8bf2c8b1afc015e9a9d8de32e13c9016dcc4b0ec03481fb396/uritemplate-3.0.0-py2.py3-none-any.whl\n",
      "Collecting google-auth-httplib2>=0.0.3 (from google-api-python-client)\n",
      "  Downloading https://files.pythonhosted.org/packages/33/49/c814d6d438b823441552198f096fcd0377fd6c88714dbed34f1d3c8c4389/google_auth_httplib2-0.0.3-py2.py3-none-any.whl\n",
      "Collecting rsa>=3.1.4 (from google-auth>=1.4.1->google-api-python-client)\n",
      "  Downloading https://files.pythonhosted.org/packages/02/e5/38518af393f7c214357079ce67a317307936896e961e35450b70fad2a9cf/rsa-4.0-py2.py3-none-any.whl\n",
      "Collecting pyasn1-modules>=0.2.1 (from google-auth>=1.4.1->google-api-python-client)\n",
      "\u001b[?25l  Downloading https://files.pythonhosted.org/packages/da/98/8ddd9fa4d84065926832bcf2255a2b69f1d03330aa4d1c49cc7317ac888e/pyasn1_modules-0.2.4-py2.py3-none-any.whl (66kB)\n",
      "\u001b[K    100% |████████████████████████████████| 71kB 5.2MB/s ta 0:00:01\n",
      "\u001b[?25hCollecting cachetools>=2.0.0 (from google-auth>=1.4.1->google-api-python-client)\n",
      "  Downloading https://files.pythonhosted.org/packages/39/2b/d87fc2369242bd743883232c463f28205902b8579cb68dcf5b11eee1652f/cachetools-3.1.0-py2.py3-none-any.whl\n",
      "Collecting pyasn1>=0.1.3 (from rsa>=3.1.4->google-auth>=1.4.1->google-api-python-client)\n",
      "\u001b[?25l  Downloading https://files.pythonhosted.org/packages/7b/7c/c9386b82a25115cccf1903441bba3cbadcfae7b678a20167347fa8ded34c/pyasn1-0.4.5-py2.py3-none-any.whl (73kB)\n",
      "\u001b[K    100% |████████████████████████████████| 81kB 9.1MB/s eta 0:00:01\n",
      "\u001b[?25hBuilding wheels for collected packages: httplib2\n",
      "  Building wheel for httplib2 (setup.py) ... \u001b[?25ldone\n",
      "\u001b[?25h  Stored in directory: /Users/kovaleva/Library/Caches/pip/wheels/98/82/0d/cfb126a5e40d487157e43fdb3332937713dde36b4d0e1e754d\n",
      "Successfully built httplib2\n",
      "Installing collected packages: pyasn1, rsa, pyasn1-modules, cachetools, google-auth, httplib2, uritemplate, google-auth-httplib2, google-api-python-client\n",
      "Successfully installed cachetools-3.1.0 google-api-python-client-1.7.8 google-auth-1.6.3 google-auth-httplib2-0.0.3 httplib2-0.12.1 pyasn1-0.4.5 pyasn1-modules-0.2.4 rsa-4.0 uritemplate-3.0.0\n"
     ]
    }
   ],
   "source": [
    "!pip install --upgrade google-api-python-client"
   ]
  },
  {
   "cell_type": "code",
   "execution_count": 5,
   "metadata": {},
   "outputs": [
    {
     "name": "stdout",
     "output_type": "stream",
     "text": [
      "Requirement already satisfied: oauth2client in ./anaconda3/lib/python3.6/site-packages (4.1.3)\n",
      "Requirement already satisfied: httplib2>=0.9.1 in ./anaconda3/lib/python3.6/site-packages (from oauth2client) (0.12.1)\n",
      "Requirement already satisfied: pyasn1-modules>=0.0.5 in ./anaconda3/lib/python3.6/site-packages (from oauth2client) (0.2.4)\n",
      "Requirement already satisfied: rsa>=3.1.4 in ./anaconda3/lib/python3.6/site-packages (from oauth2client) (4.0)\n",
      "Requirement already satisfied: pyasn1>=0.1.7 in ./anaconda3/lib/python3.6/site-packages (from oauth2client) (0.4.5)\n",
      "Requirement already satisfied: six>=1.6.1 in ./anaconda3/lib/python3.6/site-packages (from oauth2client) (1.10.0)\n"
     ]
    }
   ],
   "source": [
    "!pip install oauth2client"
   ]
  },
  {
   "cell_type": "code",
   "execution_count": 9,
   "metadata": {},
   "outputs": [
    {
     "name": "stderr",
     "output_type": "stream",
     "text": [
      "/Users/kovaleva/anaconda3/lib/python3.6/site-packages/oauth2client/_helpers.py:255: UserWarning: Cannot access analytics.dat: No such file or directory\n",
      "  warnings.warn(_MISSING_FILE_MESSAGE.format(filename))\n"
     ]
    },
    {
     "name": "stdout",
     "output_type": "stream",
     "text": [
      "\n",
      "Your browser has been opened to visit:\n",
      "\n",
      "    https://accounts.google.com/o/oauth2/auth?client_id=813523515641-9do6lgkqfndsgkvbtbcd9lgi6otkq70q.apps.googleusercontent.com&redirect_uri=http%3A%2F%2Flocalhost%3A8080%2F&scope=https%3A%2F%2Fwww.googleapis.com%2Fauth%2Fanalytics.readonly&access_type=offline&response_type=code\n",
      "\n",
      "If your browser is on a different machine then exit and re-run this\n",
      "application with the command-line parameter\n",
      "\n",
      "  --noauth_local_webserver\n",
      "\n",
      "Authentication successful.\n"
     ]
    }
   ],
   "source": [
    "import argparse\n",
    "from apiclient.discovery import build\n",
    "import httplib2\n",
    "from oauth2client import client\n",
    "from oauth2client import file\n",
    "from oauth2client import tools\n",
    "scope = ['https://www.googleapis.com/auth/analytics.readonly']\n",
    "api_name = 'analytics'\n",
    "api_version = 'v3'\n",
    "client_secrets_path = 'client_secret.json'\n",
    "parser = argparse.ArgumentParser(formatter_class=argparse.RawDescriptionHelpFormatter, parents=[tools.argparser])\n",
    "flags = parser.parse_args([])\n",
    "flow = client.flow_from_clientsecrets(client_secrets_path, scope=scope, message=tools.message_if_missing(client_secrets_path))\n",
    "storage = file.Storage(api_name + '.dat')\n",
    "credentials = storage.get()\n",
    "credentials = tools.run_flow(flow, storage, flags)"
   ]
  },
  {
   "cell_type": "markdown",
   "metadata": {},
   "source": [
    "Наконец-то можно получить какой-нибудь отчет из Google Analytics. Сейчас для проверки выгрузим отчет по источникам трафика и браузерам с помощью библиотеки от Google.\n",
    "\n",
    "Инициализируем запрос к API Google Analytics:"
   ]
  },
  {
   "cell_type": "code",
   "execution_count": 10,
   "metadata": {},
   "outputs": [],
   "source": [
    "http = credentials.authorize(http=httplib2.Http())\n",
    "service = build(api_name, api_version, http=http)"
   ]
  },
  {
   "cell_type": "markdown",
   "metadata": {},
   "source": [
    "Записываем ID представления:"
   ]
  },
  {
   "cell_type": "code",
   "execution_count": 11,
   "metadata": {
    "collapsed": true
   },
   "outputs": [],
   "source": [
    "profile_id = '71639180'"
   ]
  },
  {
   "cell_type": "markdown",
   "metadata": {},
   "source": [
    "Выбираем период, совместимые представления и метрики для отчета (более подробно параметры запроса разберем на следующем шаге).\n",
    "\n",
    "Список измерений и метрик для API Google Analytics тут https://developers.google.com/analytics/devguides/reporting/core/dimsmets\n",
    "\n",
    "Делаем запрос к API:\n",
    "(Если 403, то пройдите по последней ссылке из сообщения об ошибке (вторая ссылка из двух, приведенных в тексте сообщения) и подтвердите доступ. "
   ]
  },
  {
   "cell_type": "code",
   "execution_count": 12,
   "metadata": {},
   "outputs": [
    {
     "data": {
      "text/plain": [
       "{'columnHeaders': [{'columnType': 'DIMENSION',\n",
       "   'dataType': 'STRING',\n",
       "   'name': 'ga:source'},\n",
       "  {'columnType': 'DIMENSION', 'dataType': 'STRING', 'name': 'ga:browser'},\n",
       "  {'columnType': 'METRIC', 'dataType': 'INTEGER', 'name': 'ga:visits'}],\n",
       " 'containsSampledData': False,\n",
       " 'id': 'https://www.googleapis.com/analytics/v3/data/ga?ids=ga:71639180&dimensions=ga:source,ga:browser&metrics=ga:visits&sort=-ga:visits&filters=ga:medium%3D%3Dorganic&start-date=2018-01-01&end-date=2018-01-15&start-index=1&max-results=25',\n",
       " 'itemsPerPage': 25,\n",
       " 'kind': 'analytics#gaData',\n",
       " 'nextLink': 'https://www.googleapis.com/analytics/v3/data/ga?ids=ga:71639180&dimensions=ga:source,ga:browser&metrics=ga:visits&sort=-ga:visits&filters=ga:medium%3D%3Dorganic&start-date=2018-01-01&end-date=2018-01-15&start-index=26&max-results=25',\n",
       " 'profileInfo': {'accountId': '40356496',\n",
       "  'internalWebPropertyId': '69526380',\n",
       "  'profileId': '71639180',\n",
       "  'profileName': 'Все данные по веб-сайту',\n",
       "  'tableId': 'ga:71639180',\n",
       "  'webPropertyId': 'UA-40356496-1'},\n",
       " 'query': {'dimensions': 'ga:source,ga:browser',\n",
       "  'end-date': '2018-01-15',\n",
       "  'filters': 'ga:medium==organic',\n",
       "  'ids': 'ga:71639180',\n",
       "  'max-results': 25,\n",
       "  'metrics': ['ga:visits'],\n",
       "  'sort': ['-ga:visits'],\n",
       "  'start-date': '2018-01-01',\n",
       "  'start-index': 1},\n",
       " 'rows': [['google', 'Chrome', '782'],\n",
       "  ['google', 'Safari', '361'],\n",
       "  ['yandex', 'YaBrowser', '129'],\n",
       "  ['yandex', 'Chrome', '100'],\n",
       "  ['google', 'Opera', '49'],\n",
       "  ['yandex', 'Opera', '45'],\n",
       "  ['yandex', 'Firefox', '41'],\n",
       "  ['yandex', 'Android Webview', '28'],\n",
       "  ['yandex', 'Internet Explorer', '17'],\n",
       "  ['google', 'Android Webview', '15'],\n",
       "  ['google', 'Android Browser', '14'],\n",
       "  ['google', 'Firefox', '13'],\n",
       "  ['yandex', 'Safari', '13'],\n",
       "  ['google', 'YaBrowser', '10'],\n",
       "  ['google', 'Samsung Internet', '8'],\n",
       "  ['google', 'Internet Explorer', '7'],\n",
       "  ['google', 'Edge', '5'],\n",
       "  ['yandex', 'Samsung Internet', '5'],\n",
       "  ['yahoo', 'Safari', '3'],\n",
       "  ['yandex', 'Android Browser', '2'],\n",
       "  ['yandex', 'Edge', '2'],\n",
       "  ['yandex', 'MRCHROME', '2'],\n",
       "  ['bing', 'Chrome', '1'],\n",
       "  ['bing', 'Safari', '1'],\n",
       "  ['bing', 'YaBrowser', '1']],\n",
       " 'selfLink': 'https://www.googleapis.com/analytics/v3/data/ga?ids=ga:71639180&dimensions=ga:source,ga:browser&metrics=ga:visits&sort=-ga:visits&filters=ga:medium%3D%3Dorganic&start-date=2018-01-01&end-date=2018-01-15&start-index=1&max-results=25',\n",
       " 'totalResults': 31,\n",
       " 'totalsForAllResults': {'ga:visits': '1660'}}"
      ]
     },
     "execution_count": 12,
     "metadata": {},
     "output_type": "execute_result"
    }
   ],
   "source": [
    "service.data().ga().get(\n",
    "    ids='ga:' + profile_id,\n",
    "    start_date='2018-01-01',\n",
    "    end_date='2018-01-15',\n",
    "    metrics='ga:visits',\n",
    "    dimensions='ga:source,ga:browser',\n",
    "    sort='-ga:visits',\n",
    "    filters='ga:medium==organic',\n",
    "    start_index='1',\n",
    "    max_results='25')\\\n",
    ".execute()"
   ]
  },
  {
   "cell_type": "markdown",
   "metadata": {},
   "source": [
    "Ограничения при работе с API\n",
    "Как и при выгрузке отчетов из Яндекс.Метрики, в API Google Analytics предусмотрены определенные квоты на количество запросов в единицу времени. В основном, вы будете сталкиваться с двумя из них:\n",
    "\n",
    "50 000 запросов в день на один проект (несложно превысить при выгрузке исторических данных за большой период);\n",
    "100 запросов за 100 секунд на одного пользователя."
   ]
  },
  {
   "cell_type": "markdown",
   "metadata": {},
   "source": [
    "На данном шаге мы научимся получать отчеты Google Analytics простыми веб-запросами, а в следующих блоках воспользуемся официальной библиотекой от Google. Использование веб-запросов напрямую (без использования библиотеки Google) позволит вам в случае необходимости расширить возможности готовых решений. Например, мы используем свою библиотеку для получения отчетов Google Analytics с расширенными возможностями:\n",
    "\n",
    "быстрый вызов в одну строчку;\n",
    "простое добавление готовых отчетов любой сложности;\n",
    "легкое использование на серверах и компьютерах коллег, в том числе через proxy-сервер;\n",
    "выгрузка данных за любой период по дням (для уменьшения сэмплирования GA);\n",
    "выгрузка больших таблиц;\n",
    "соблюдение лимитов;\n",
    "реагирование на ошибки сети или временную недоступность сервиса.\n",
    "Как вы помните из прошлого блока, токен для запросов к API Google Analytics обычно выдается на 1 час. После этого его надо обновить. Давайте посмотрим, как это сделать. Сначала задаем в скрипте параметры нашего приложения, которые импортируем из файла client_secret.json:"
   ]
  },
  {
   "cell_type": "code",
   "execution_count": 13,
   "metadata": {
    "collapsed": true
   },
   "outputs": [],
   "source": [
    "import json\n",
    "import requests\n",
    "from datetime import datetime, timedelta\n",
    "from pprint import pprint\n",
    "config = json.load( open('analytics.dat') )\n",
    "client_id = config['client_id']\n",
    "client_secret = config['client_secret']\n",
    "refresh_token = config['refresh_token']\n",
    "def update_token(client_id, client_secret, refresh_token):\n",
    "    \"\"\"Обновление токена для запросов к API. Возвращает токен\"\"\"    \n",
    "    url_token = 'https://accounts.google.com/o/oauth2/token'\n",
    "    params = { 'client_id' : client_id, 'client_secret' : client_secret, \n",
    "               'refresh_token' : refresh_token, 'grant_type' : 'refresh_token' }\n",
    "    r = requests.post( url_token, data = params )  \n",
    "    print('Токен выдан до {}'.format(datetime.today() + timedelta( hours = 1 )))\n",
    "    return r.json()['access_token']"
   ]
  },
  {
   "cell_type": "markdown",
   "metadata": {},
   "source": [
    "Обновим токен для запросов к API с помощью этой функции:"
   ]
  },
  {
   "cell_type": "code",
   "execution_count": 14,
   "metadata": {},
   "outputs": [
    {
     "name": "stdout",
     "output_type": "stream",
     "text": [
      "Токен выдан до 2019-04-14 20:52:53.900661\n"
     ]
    }
   ],
   "source": [
    "token = update_token(client_id, client_secret, refresh_token)"
   ]
  },
  {
   "cell_type": "markdown",
   "metadata": {},
   "source": [
    "Получим теперь простой отчет Google Analytics, отправляя соответствующий запрос. Список нужных измерений и метрик можно найти на странице https://developers.google.com/analytics/devguides/reporting/core/dimsmets\n",
    "\n",
    "Рассмотрим простой отчет: получим количество визитов и просмотров сайта по дням за определенный период. Задаем параметры запроса:"
   ]
  },
  {
   "cell_type": "code",
   "execution_count": 15,
   "metadata": {
    "collapsed": true
   },
   "outputs": [],
   "source": [
    "url = 'https://analyticsreporting.googleapis.com/v4/reports:batchGet'\n",
    "profile_id = '71639180'\n",
    "start_date = '2018-01-01'\n",
    "end_date = '2018-01-07'\n",
    "metrics = [ { 'expression': 'ga:sessions' }, { 'expression': 'ga:pageviews' } ]\n",
    "dimensions = [ { 'name': 'ga:date' } ]"
   ]
  },
  {
   "cell_type": "code",
   "execution_count": 16,
   "metadata": {
    "collapsed": true
   },
   "outputs": [],
   "source": [
    "params = {\n",
    "    \"reportRequests\": [\n",
    "        {\n",
    "            'viewId': profile_id,\n",
    "            'dateRanges': [ { 'startDate': start_date, 'endDate': end_date } ],\n",
    "            'metrics': metrics,\n",
    "            'dimensions': dimensions\n",
    "        } \n",
    "    ]\n",
    "}"
   ]
  },
  {
   "cell_type": "code",
   "execution_count": 17,
   "metadata": {
    "collapsed": true
   },
   "outputs": [],
   "source": [
    "headers = { 'Authorization': 'Bearer ' + token }"
   ]
  },
  {
   "cell_type": "markdown",
   "metadata": {},
   "source": [
    "Для получения отчета отправляем POST-запрос:"
   ]
  },
  {
   "cell_type": "code",
   "execution_count": 18,
   "metadata": {
    "collapsed": true
   },
   "outputs": [],
   "source": [
    "import requests\n",
    "r = requests.post( url, json = params, headers = headers )\n"
   ]
  },
  {
   "cell_type": "code",
   "execution_count": 19,
   "metadata": {},
   "outputs": [
    {
     "name": "stdout",
     "output_type": "stream",
     "text": [
      "{'reports': [{'columnHeader': {'dimensions': ['ga:date'],\n",
      "                               'metricHeader': {'metricHeaderEntries': [{'name': 'ga:sessions',\n",
      "                                                                         'type': 'INTEGER'},\n",
      "                                                                        {'name': 'ga:pageviews',\n",
      "                                                                         'type': 'INTEGER'}]}},\n",
      "              'data': {'isDataGolden': True,\n",
      "                       'maximums': [{'values': ['137', '194']}],\n",
      "                       'minimums': [{'values': ['71', '89']}],\n",
      "                       'rowCount': 7,\n",
      "                       'rows': [{'dimensions': ['20180101'],\n",
      "                                 'metrics': [{'values': ['71', '89']}]},\n",
      "                                {'dimensions': ['20180102'],\n",
      "                                 'metrics': [{'values': ['77', '106']}]},\n",
      "                                {'dimensions': ['20180103'],\n",
      "                                 'metrics': [{'values': ['137', '194']}]},\n",
      "                                {'dimensions': ['20180104'],\n",
      "                                 'metrics': [{'values': ['125', '151']}]},\n",
      "                                {'dimensions': ['20180105'],\n",
      "                                 'metrics': [{'values': ['119', '171']}]},\n",
      "                                {'dimensions': ['20180106'],\n",
      "                                 'metrics': [{'values': ['110', '161']}]},\n",
      "                                {'dimensions': ['20180107'],\n",
      "                                 'metrics': [{'values': ['125', '165']}]}],\n",
      "                       'totals': [{'values': ['764', '1037']}]}}]}\n"
     ]
    }
   ],
   "source": [
    "pprint(r.json())"
   ]
  },
  {
   "cell_type": "markdown",
   "metadata": {},
   "source": [
    "Когда мы установили библиотеку google-api-python-client, то, помимо авторизации, получили набор методов для получения отчетов с помощью API. Давайте построим отчет для мониторинга нагрузки на сайт по минутам:\n",
    "\n",
    "Импортируем необходимые библиотеки:"
   ]
  },
  {
   "cell_type": "code",
   "execution_count": 20,
   "metadata": {
    "collapsed": true
   },
   "outputs": [],
   "source": [
    "from oauth2client import file\n",
    "from apiclient.discovery import build\n",
    "import httplib2"
   ]
  },
  {
   "cell_type": "markdown",
   "metadata": {},
   "source": [
    "Указываем, что используем API Google Analytics:"
   ]
  },
  {
   "cell_type": "code",
   "execution_count": 21,
   "metadata": {
    "collapsed": true
   },
   "outputs": [],
   "source": [
    "api_name = 'analytics'\n",
    "api_version = 'v3'"
   ]
  },
  {
   "cell_type": "markdown",
   "metadata": {},
   "source": [
    "Загружаем файл analytics.dat, в котором лежат ключи нашего приложения и refresh_token:"
   ]
  },
  {
   "cell_type": "code",
   "execution_count": 22,
   "metadata": {
    "collapsed": true
   },
   "outputs": [],
   "source": [
    "storage = file.Storage(api_name + '.dat')\n",
    "credentials = storage.get()"
   ]
  },
  {
   "cell_type": "markdown",
   "metadata": {},
   "source": [
    "Формируем объект service, с помощью которого будем получать отчеты:"
   ]
  },
  {
   "cell_type": "code",
   "execution_count": 23,
   "metadata": {
    "collapsed": true
   },
   "outputs": [],
   "source": [
    "http = credentials.authorize(http=httplib2.Http())\n",
    "service = build(api_name, api_version, http=http)"
   ]
  },
  {
   "cell_type": "code",
   "execution_count": 24,
   "metadata": {
    "collapsed": true
   },
   "outputs": [],
   "source": [
    "profile_id = '71639180'"
   ]
  },
  {
   "cell_type": "markdown",
   "metadata": {},
   "source": [
    "ids — номер представления;\n",
    "start_date — начальная дата выгрузки;\n",
    "end_date — конечная дата выгрузки;\n",
    "metrics — список метрик (столбцов) отчета;\n",
    "dimensions — список измерений (что стоит в строках) отчета;\n",
    "sort — по какому столбцу необходимо сортировать отчет;\n",
    "filters — фильтры отчета (в нашем случае берем трафик из поисковиков);\n",
    "start_index — с какой строчки таблицы начинать выгрузку (в API Яндекс.Метрики это был параметр offset);\n",
    "max_results — сколько строчек вернуть в таблице (аналог limit в Яндекс.Метрике). В текущий момент максимальное значение 1000 за один запрос."
   ]
  },
  {
   "cell_type": "markdown",
   "metadata": {},
   "source": [
    "Итак, отправляем запрос и смотрим, что получилось:"
   ]
  },
  {
   "cell_type": "code",
   "execution_count": 25,
   "metadata": {},
   "outputs": [
    {
     "data": {
      "text/plain": [
       "{'columnHeaders': [{'columnType': 'DIMENSION',\n",
       "   'dataType': 'STRING',\n",
       "   'name': 'ga:dateHourMinute'},\n",
       "  {'columnType': 'METRIC', 'dataType': 'INTEGER', 'name': 'ga:visits'}],\n",
       " 'containsSampledData': False,\n",
       " 'id': 'https://www.googleapis.com/analytics/v3/data/ga?ids=ga:71639180&dimensions=ga:dateHourMinute&metrics=ga:visits&sort=-ga:visits&filters=ga:medium%3D%3Dorganic&start-date=2018-02-12&end-date=2018-02-18&start-index=1&max-results=25',\n",
       " 'itemsPerPage': 25,\n",
       " 'kind': 'analytics#gaData',\n",
       " 'nextLink': 'https://www.googleapis.com/analytics/v3/data/ga?ids=ga:71639180&dimensions=ga:dateHourMinute&metrics=ga:visits&sort=-ga:visits&filters=ga:medium%3D%3Dorganic&start-date=2018-02-12&end-date=2018-02-18&start-index=26&max-results=25',\n",
       " 'profileInfo': {'accountId': '40356496',\n",
       "  'internalWebPropertyId': '69526380',\n",
       "  'profileId': '71639180',\n",
       "  'profileName': 'Все данные по веб-сайту',\n",
       "  'tableId': 'ga:71639180',\n",
       "  'webPropertyId': 'UA-40356496-1'},\n",
       " 'query': {'dimensions': 'ga:dateHourMinute',\n",
       "  'end-date': '2018-02-18',\n",
       "  'filters': 'ga:medium==organic',\n",
       "  'ids': 'ga:71639180',\n",
       "  'max-results': 25,\n",
       "  'metrics': ['ga:visits'],\n",
       "  'sort': ['-ga:visits'],\n",
       "  'start-date': '2018-02-12',\n",
       "  'start-index': 1},\n",
       " 'rows': [['201802151309', '4'],\n",
       "  ['201802161811', '4'],\n",
       "  ['201802121822', '3'],\n",
       "  ['201802131346', '3'],\n",
       "  ['201802131415', '3'],\n",
       "  ['201802141633', '3'],\n",
       "  ['201802142155', '3'],\n",
       "  ['201802161601', '3'],\n",
       "  ['201802171434', '3'],\n",
       "  ['201802171947', '3'],\n",
       "  ['201802181933', '3'],\n",
       "  ['201802120827', '2'],\n",
       "  ['201802121015', '2'],\n",
       "  ['201802121459', '2'],\n",
       "  ['201802121735', '2'],\n",
       "  ['201802121742', '2'],\n",
       "  ['201802121749', '2'],\n",
       "  ['201802121811', '2'],\n",
       "  ['201802121857', '2'],\n",
       "  ['201802122001', '2'],\n",
       "  ['201802122022', '2'],\n",
       "  ['201802122049', '2'],\n",
       "  ['201802122057', '2'],\n",
       "  ['201802122058', '2'],\n",
       "  ['201802122123', '2']],\n",
       " 'selfLink': 'https://www.googleapis.com/analytics/v3/data/ga?ids=ga:71639180&dimensions=ga:dateHourMinute&metrics=ga:visits&sort=-ga:visits&filters=ga:medium%3D%3Dorganic&start-date=2018-02-12&end-date=2018-02-18&start-index=1&max-results=25',\n",
       " 'totalResults': 2049,\n",
       " 'totalsForAllResults': {'ga:visits': '1617'}}"
      ]
     },
     "execution_count": 25,
     "metadata": {},
     "output_type": "execute_result"
    }
   ],
   "source": [
    "data = service.data().ga().get(\n",
    "    ids='ga:' + profile_id,\n",
    "    start_date='2018-02-12',\n",
    "    end_date='2018-02-18',\n",
    "    metrics='ga:visits',\n",
    "    dimensions='ga:dateHourMinute',\n",
    "    sort='-ga:visits',\n",
    "    filters='ga:medium==organic',\n",
    "    start_index='1',\n",
    "    max_results='25')\\\n",
    ".execute()\n",
    "data"
   ]
  },
  {
   "cell_type": "markdown",
   "metadata": {},
   "source": [
    "Давайте выведем результат первых 25 строк:"
   ]
  },
  {
   "cell_type": "code",
   "execution_count": 26,
   "metadata": {},
   "outputs": [
    {
     "data": {
      "text/plain": [
       "[['201802151309', '4'],\n",
       " ['201802161811', '4'],\n",
       " ['201802121822', '3'],\n",
       " ['201802131346', '3'],\n",
       " ['201802131415', '3'],\n",
       " ['201802141633', '3'],\n",
       " ['201802142155', '3'],\n",
       " ['201802161601', '3'],\n",
       " ['201802171434', '3'],\n",
       " ['201802171947', '3'],\n",
       " ['201802181933', '3'],\n",
       " ['201802120827', '2'],\n",
       " ['201802121015', '2'],\n",
       " ['201802121459', '2'],\n",
       " ['201802121735', '2'],\n",
       " ['201802121742', '2'],\n",
       " ['201802121749', '2'],\n",
       " ['201802121811', '2'],\n",
       " ['201802121857', '2'],\n",
       " ['201802122001', '2'],\n",
       " ['201802122022', '2'],\n",
       " ['201802122049', '2'],\n",
       " ['201802122057', '2'],\n",
       " ['201802122058', '2'],\n",
       " ['201802122123', '2']]"
      ]
     },
     "execution_count": 26,
     "metadata": {},
     "output_type": "execute_result"
    }
   ],
   "source": [
    "result = data['rows']\n",
    "result"
   ]
  },
  {
   "cell_type": "markdown",
   "metadata": {},
   "source": [
    "Если нужно выгрузить все строки большого отчета, то нам необходимо условие выхода из цикла построчной выгрузки. Проверим, что отдает API Google Analytics при окончании выгрузки. Поставим значение start_index = 10000:"
   ]
  },
  {
   "cell_type": "code",
   "execution_count": 27,
   "metadata": {},
   "outputs": [
    {
     "data": {
      "text/plain": [
       "{'columnHeaders': [{'columnType': 'DIMENSION',\n",
       "   'dataType': 'STRING',\n",
       "   'name': 'ga:dateHourMinute'},\n",
       "  {'columnType': 'METRIC', 'dataType': 'INTEGER', 'name': 'ga:visits'}],\n",
       " 'containsSampledData': False,\n",
       " 'id': 'https://www.googleapis.com/analytics/v3/data/ga?ids=ga:71639180&dimensions=ga:dateHourMinute&metrics=ga:visits&sort=-ga:visits&filters=ga:medium%3D%3Dorganic&start-date=2018-02-12&end-date=2018-02-18&start-index=10000&max-results=25',\n",
       " 'itemsPerPage': 25,\n",
       " 'kind': 'analytics#gaData',\n",
       " 'previousLink': 'https://www.googleapis.com/analytics/v3/data/ga?ids=ga:71639180&dimensions=ga:dateHourMinute&metrics=ga:visits&sort=-ga:visits&filters=ga:medium%3D%3Dorganic&start-date=2018-02-12&end-date=2018-02-18&start-index=9975&max-results=25',\n",
       " 'profileInfo': {'accountId': '40356496',\n",
       "  'internalWebPropertyId': '69526380',\n",
       "  'profileId': '71639180',\n",
       "  'profileName': 'Все данные по веб-сайту',\n",
       "  'tableId': 'ga:71639180',\n",
       "  'webPropertyId': 'UA-40356496-1'},\n",
       " 'query': {'dimensions': 'ga:dateHourMinute',\n",
       "  'end-date': '2018-02-18',\n",
       "  'filters': 'ga:medium==organic',\n",
       "  'ids': 'ga:71639180',\n",
       "  'max-results': 25,\n",
       "  'metrics': ['ga:visits'],\n",
       "  'sort': ['-ga:visits'],\n",
       "  'start-date': '2018-02-12',\n",
       "  'start-index': 10000},\n",
       " 'selfLink': 'https://www.googleapis.com/analytics/v3/data/ga?ids=ga:71639180&dimensions=ga:dateHourMinute&metrics=ga:visits&sort=-ga:visits&filters=ga:medium%3D%3Dorganic&start-date=2018-02-12&end-date=2018-02-18&start-index=10000&max-results=25',\n",
       " 'totalResults': 2049,\n",
       " 'totalsForAllResults': {'ga:visits': '1617'}}"
      ]
     },
     "execution_count": 27,
     "metadata": {},
     "output_type": "execute_result"
    }
   ],
   "source": [
    "data = service.data().ga().get(\n",
    "    ids='ga:' + profile_id,\n",
    "    start_date='2018-02-12',\n",
    "    end_date='2018-02-18',\n",
    "    metrics='ga:visits',\n",
    "    dimensions='ga:dateHourMinute',\n",
    "    sort='-ga:visits',\n",
    "    filters='ga:medium==organic',\n",
    "    start_index='10000',\n",
    "    max_results='25')\\\n",
    ".execute()\n",
    "data"
   ]
  },
  {
   "cell_type": "markdown",
   "metadata": {},
   "source": [
    "Ключа 'rows' в этом случае нет в ответе. Это и будет признаком того, что выгрузка всех строк отчета завершена."
   ]
  },
  {
   "cell_type": "code",
   "execution_count": null,
   "metadata": {
    "collapsed": true
   },
   "outputs": [],
   "source": []
  }
 ],
 "metadata": {
  "kernelspec": {
   "display_name": "Python 3",
   "language": "python",
   "name": "python3"
  },
  "language_info": {
   "codemirror_mode": {
    "name": "ipython",
    "version": 3
   },
   "file_extension": ".py",
   "mimetype": "text/x-python",
   "name": "python",
   "nbconvert_exporter": "python",
   "pygments_lexer": "ipython3",
   "version": "3.6.8"
  }
 },
 "nbformat": 4,
 "nbformat_minor": 2
}
